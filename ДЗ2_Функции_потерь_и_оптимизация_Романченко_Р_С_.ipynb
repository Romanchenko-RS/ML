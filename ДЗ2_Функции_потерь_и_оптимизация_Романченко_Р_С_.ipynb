{
  "nbformat": 4,
  "nbformat_minor": 0,
  "metadata": {
    "colab": {
      "provenance": [],
      "include_colab_link": true
    },
    "kernelspec": {
      "name": "python3",
      "display_name": "Python 3"
    },
    "language_info": {
      "name": "python"
    }
  },
  "cells": [
    {
      "cell_type": "markdown",
      "metadata": {
        "id": "view-in-github",
        "colab_type": "text"
      },
      "source": [
        "<a href=\"https://colab.research.google.com/github/Romanchenko-RS/ML/blob/main/%D0%94%D0%972_%D0%A4%D1%83%D0%BD%D0%BA%D1%86%D0%B8%D0%B8_%D0%BF%D0%BE%D1%82%D0%B5%D1%80%D1%8C_%D0%B8_%D0%BE%D0%BF%D1%82%D0%B8%D0%BC%D0%B8%D0%B7%D0%B0%D1%86%D0%B8%D1%8F_%D0%A0%D0%BE%D0%BC%D0%B0%D0%BD%D1%87%D0%B5%D0%BD%D0%BA%D0%BE_%D0%A0_%D0%A1_.ipynb\" target=\"_parent\"><img src=\"https://colab.research.google.com/assets/colab-badge.svg\" alt=\"Open In Colab\"/></a>"
      ]
    },
    {
      "cell_type": "markdown",
      "source": [
        "**Самостоятельная реализация логистической регрессии**"
      ],
      "metadata": {
        "id": "oORgZX_92izR"
      }
    },
    {
      "cell_type": "code",
      "execution_count": null,
      "metadata": {
        "id": "KD-xorXk17Tz"
      },
      "outputs": [],
      "source": [
        "import numpy as np\n",
        "from sklearn.datasets import load_iris\n",
        "from sklearn.model_selection import train_test_split\n",
        "from sklearn.metrics import accuracy_score\n",
        "import time"
      ]
    },
    {
      "cell_type": "code",
      "source": [
        "data = load_iris()\n",
        "X = data.data[50:, :]  # Берём последние 100 записей, которые соответствуют классам 1 и 2\n",
        "y = data.target[50:]\n",
        "y[y == 2] = 0  # Преобразуем метки классов Iris Virginica в 0 (для бинарной классификации)"
      ],
      "metadata": {
        "id": "vCDHs72k2AoG"
      },
      "execution_count": null,
      "outputs": []
    },
    {
      "cell_type": "code",
      "source": [
        "# Добавляем служебный столбец 1 к X (для w0)\n",
        "X = np.hstack([np.ones((X.shape[0], 1)), X]) # Нужен для корректной работы математической модели и учёта смещения"
      ],
      "metadata": {
        "id": "DqVbdriM2DSG"
      },
      "execution_count": null,
      "outputs": []
    },
    {
      "cell_type": "code",
      "source": [
        "# Разделяем на обучающую и тестовую выборки\n",
        "X_train, X_test, y_train, y_test = train_test_split(X, y, test_size=0.2, random_state=42)"
      ],
      "metadata": {
        "id": "2Id5b8hn2FbY"
      },
      "execution_count": null,
      "outputs": []
    },
    {
      "cell_type": "code",
      "source": [
        "# Функция сигмоида\n",
        "# Это функция активации, которая преобразует входное значение в вероятность от 0 до 1\n",
        "def sigmoid(z):\n",
        "    return 1 / (1 + np.exp(-z))"
      ],
      "metadata": {
        "id": "L0jxtx7z2Ho2"
      },
      "execution_count": null,
      "outputs": []
    },
    {
      "cell_type": "code",
      "source": [
        "# Функция потерь (бинарная кросс-энтропия)\n",
        "def compute_loss(y, y_hat):\n",
        "    m = y.shape[0]\n",
        "    return -np.sum(y*np.log(y_hat) + (1-y)*np.log(1-y_hat)) / m"
      ],
      "metadata": {
        "id": "Jx-cXNL92KDg"
      },
      "execution_count": null,
      "outputs": []
    },
    {
      "cell_type": "code",
      "source": [
        "# Функция для расчёта градиентов\n",
        "def compute_gradients(X, y, y_hat):\n",
        "    m = y.shape[0]\n",
        "    return np.dot(X.T, (y_hat - y)) / m"
      ],
      "metadata": {
        "id": "FVgOXRQi2MS4"
      },
      "execution_count": null,
      "outputs": []
    },
    {
      "cell_type": "code",
      "source": [
        "# Функция градиентного спуска для обучения модели\n",
        "def gradient_descent(X, y, lr=0.01, epochs=1000):\n",
        "    weights = np.zeros(X.shape[1])\n",
        "    losses = []\n",
        "    for i in range(epochs):\n",
        "        y_hat = sigmoid(np.dot(X, weights))\n",
        "        loss = compute_loss(y, y_hat)\n",
        "        gradients = compute_gradients(X, y, y_hat)\n",
        "\n",
        "        weights -= lr * gradients\n",
        "\n",
        "        if i % 100 == 0:\n",
        "            losses.append(loss)\n",
        "            print(f'Epoch {i}, Loss: {loss:.4f}')\n",
        "\n",
        "    return weights, losses"
      ],
      "metadata": {
        "id": "tqxe0Y0s2Obl"
      },
      "execution_count": null,
      "outputs": []
    },
    {
      "cell_type": "code",
      "source": [
        "# Обучение модели\n",
        "start_time = time.time()\n",
        "weights, losses = gradient_descent(X_train, y_train, lr=0.001, epochs=1000)\n",
        "end_time = time.time()"
      ],
      "metadata": {
        "colab": {
          "base_uri": "https://localhost:8080/"
        },
        "id": "DE9ERWb42Q8V",
        "outputId": "2e0279c9-b4d9-415b-86ea-dbb0aa9fae19"
      },
      "execution_count": null,
      "outputs": [
        {
          "output_type": "stream",
          "name": "stdout",
          "text": [
            "Epoch 0, Loss: 0.6931\n",
            "Epoch 100, Loss: 0.6804\n",
            "Epoch 200, Loss: 0.6759\n",
            "Epoch 300, Loss: 0.6715\n",
            "Epoch 400, Loss: 0.6672\n",
            "Epoch 500, Loss: 0.6630\n",
            "Epoch 600, Loss: 0.6588\n",
            "Epoch 700, Loss: 0.6546\n",
            "Epoch 800, Loss: 0.6505\n",
            "Epoch 900, Loss: 0.6465\n"
          ]
        }
      ]
    },
    {
      "cell_type": "code",
      "source": [
        "# Предсказание\n",
        "predictions = sigmoid(np.dot(X_test, weights)) >= 0.5\n",
        "accuracy = accuracy_score(y_test, predictions)\n",
        "elapsed_time = end_time - start_time"
      ],
      "metadata": {
        "id": "Kc1iWKHi2Xur"
      },
      "execution_count": null,
      "outputs": []
    },
    {
      "cell_type": "code",
      "source": [
        "# Вывод результатов\n",
        "print(f'Accuracy: {accuracy:.3f}')\n",
        "print(f'Time taken: {elapsed_time:.2f} seconds')"
      ],
      "metadata": {
        "colab": {
          "base_uri": "https://localhost:8080/"
        },
        "id": "sI2CG-xn2bFu",
        "outputId": "f1b06e39-6229-4999-e99b-e5ba4fb7af43"
      },
      "execution_count": null,
      "outputs": [
        {
          "output_type": "stream",
          "name": "stdout",
          "text": [
            "Accuracy: 0.400\n",
            "Time taken: 0.12 seconds\n"
          ]
        }
      ]
    },
    {
      "cell_type": "markdown",
      "source": [
        "**Реализация метода градиентного спуска**"
      ],
      "metadata": {
        "id": "bP0k9_sz54tg"
      }
    },
    {
      "cell_type": "code",
      "source": [
        "import numpy as np\n",
        "from sklearn.datasets import load_iris\n",
        "from sklearn.model_selection import train_test_split\n",
        "from sklearn.metrics import accuracy_score\n",
        "import time\n",
        "import pandas"
      ],
      "metadata": {
        "id": "Z7JejFk06FmO"
      },
      "execution_count": null,
      "outputs": []
    },
    {
      "cell_type": "code",
      "source": [
        "# Функция сигмоида\n",
        "def sigmoid(z):\n",
        "    return 1 / (1 + np.exp(-z))"
      ],
      "metadata": {
        "id": "CpEMtemB6KXG"
      },
      "execution_count": null,
      "outputs": []
    },
    {
      "cell_type": "code",
      "source": [
        "# Функция потерь\n",
        "# Вычисляет значение функции потерь (кросс-энтропия), которое является мерой разности между предсказанными и настоящими метками классов\n",
        "def loss(y, y_hat):\n",
        "    return -np.mean(y*np.log(y_hat) + (1-y)*np.log(1-y_hat))"
      ],
      "metadata": {
        "id": "Thw7Qk4a63ec"
      },
      "execution_count": null,
      "outputs": []
    },
    {
      "cell_type": "code",
      "source": [
        "# Градиент\n",
        "# Рассчитывает градиент функции потерь\n",
        "def gradients(X, y, y_hat):\n",
        "    m = X.shape[0]\n",
        "    return np.dot(X.T, (y_hat - y)) / m"
      ],
      "metadata": {
        "id": "VN2e12W66-R5"
      },
      "execution_count": null,
      "outputs": []
    },
    {
      "cell_type": "code",
      "source": [
        "# Функция расчёта градиента\n",
        "def gradient_descent(X, y, lr=0.1, epochs=1000):\n",
        "    weights = np.zeros(X.shape[1])  # Выбираем начальное значение весов\n",
        "    for i in range(epochs):\n",
        "        y_hat = sigmoid(np.dot(X, weights))  # С помощью текущих весов и функции сигмоиды рассчитывается предсказание модели\n",
        "        loss_value = loss(y, y_hat)  # Вычисляется значение функции потерь между предсказанными значениями и настоящими метками классов\n",
        "        grads = gradients(X, y, y_hat)  # Определяется градиент функции потерь в текущей точке\n",
        "        weights -= lr * grads  # Веса обновляются в направлении анти-градиента с учетом коэффициента скорости обучения\n",
        "        if i % 100 == 0:\n",
        "            print(f'Epoch {i}, Loss: {loss_value}')  # Следим за значением функции потерь с шагов в 100 итераций\n",
        "    return weights"
      ],
      "metadata": {
        "id": "NLbNY3w87E91"
      },
      "execution_count": null,
      "outputs": []
    },
    {
      "cell_type": "code",
      "source": [
        "# Функция расчёта rmsprop\n",
        "def gradient_descent_rmsprop(X, y, lr=0.01, beta=0.9, epsilon=1e-8, epochs=1000):\n",
        "    weights = np.zeros(X.shape[1])\n",
        "    S = np.zeros(X.shape[1])\n",
        "    for i in range(epochs):\n",
        "        y_hat = sigmoid(np.dot(X, weights))\n",
        "        grads = gradients(X, y, y_hat)\n",
        "        S = beta * S + (1 - beta) * np.square(grads)\n",
        "        weights -= lr * grads / (np.sqrt(S) + epsilon)\n",
        "        if i % 100 == 0:\n",
        "            loss_value = loss(y, y_hat)\n",
        "            print(f'Epoch {i}, Loss: {loss_value}')\n",
        "    return weights"
      ],
      "metadata": {
        "id": "wZ2FOakz7Lmp"
      },
      "execution_count": null,
      "outputs": []
    },
    {
      "cell_type": "code",
      "source": [
        "# Функция расчёта nadam\n",
        "def nadam(X, y, lr=0.001, beta1=0.9, beta2=0.999, epsilon=1e-7, epochs=1000):\n",
        "    weights = np.zeros(X.shape[1])\n",
        "    m = np.zeros(X.shape[1])\n",
        "    v = np.zeros(X.shape[1])\n",
        "    m_hat = np.zeros(X.shape[1])  # Корректированный момент первого порядка\n",
        "    v_hat = np.zeros(X.shape[1])  # Корректированный момент второго порядка\n",
        "\n",
        "    for i in range(epochs):\n",
        "        y_hat = sigmoid(np.dot(X, weights))\n",
        "        grads = gradients(X, y, y_hat)\n",
        "        m = beta1 * m + (1 - beta1) * grads\n",
        "        v = beta2 * v + (1 - beta2) * (grads ** 2)\n",
        "\n",
        "        m_hat = m / (1 - beta1 ** (i + 1))\n",
        "        v_hat = v / (1 - beta2 ** (i + 1))\n",
        "\n",
        "        m_bar = (1 - beta1) * grads + beta1 * m_hat  # Коррекция Нестерова\n",
        "\n",
        "        weights -= lr * m_bar / (np.sqrt(v_hat) + epsilon)\n",
        "\n",
        "        if i % 100 == 0:\n",
        "            loss_value = loss(y, y_hat)\n",
        "            print(f'Epoch {i}, Loss: {loss_value}')\n",
        "\n",
        "    return weights"
      ],
      "metadata": {
        "id": "AWwYxFmB7Ser"
      },
      "execution_count": null,
      "outputs": []
    },
    {
      "cell_type": "code",
      "source": [
        "# Создание словаря для записи результатов\n",
        "results = pandas.DataFrame(columns=['Method', 'Accuracy', 'Time'])"
      ],
      "metadata": {
        "id": "nl-D0_f57iR8"
      },
      "execution_count": null,
      "outputs": []
    },
    {
      "cell_type": "code",
      "source": [
        "# Расчёт градиентного спуска\n",
        "start_time_gd = time.time()\n",
        "weights = gradient_descent(X_train, y_train, lr=0.1, epochs=1000)\n",
        "predictions_gd = sigmoid(np.dot(X_test, weights)) >= 0.5\n",
        "accuracy_gd = accuracy_score(y_test, predictions_gd)\n",
        "end_time_gd = time.time()\n",
        "elapsed_time_gd = end_time_gd - start_time_gd\n",
        "print(f'Accuracy gd: {accuracy_gd:.3f}')\n",
        "print(f'Время выполнения gd: {elapsed_time_gd:.3f} секунд')"
      ],
      "metadata": {
        "colab": {
          "base_uri": "https://localhost:8080/"
        },
        "id": "4-tc-z_M7nTj",
        "outputId": "8c31efd2-f034-40bc-8736-e89057abda37"
      },
      "execution_count": null,
      "outputs": [
        {
          "output_type": "stream",
          "name": "stdout",
          "text": [
            "Epoch 0, Loss: 0.6931471805599453\n",
            "Epoch 100, Loss: 0.411573398932988\n",
            "Epoch 200, Loss: 0.3021388886021\n",
            "Epoch 300, Loss: 0.24513904509931744\n",
            "Epoch 400, Loss: 0.21005358925069723\n",
            "Epoch 500, Loss: 0.186083946381474\n",
            "Epoch 600, Loss: 0.168529713690611\n",
            "Epoch 700, Loss: 0.15502643144676914\n",
            "Epoch 800, Loss: 0.14425463820243017\n",
            "Epoch 900, Loss: 0.13541874915791174\n",
            "Accuracy gd: 0.850\n",
            "Время выполнения gd: 0.058 секунд\n"
          ]
        }
      ]
    },
    {
      "cell_type": "code",
      "source": [
        "# Расчёт rmsprop\n",
        "start_time_rmsprop = time.time()\n",
        "weights_rmsprop = gradient_descent_rmsprop(X_train, y_train, lr=0.01, epochs=1000)\n",
        "predictions_rmsprop = sigmoid(np.dot(X_test, weights_rmsprop)) >= 0.5\n",
        "accuracy_rmsprop = accuracy_score(y_test, predictions_rmsprop)\n",
        "end_time_rmsprop = time.time()\n",
        "elapsed_time_rmsprop = end_time_rmsprop - start_time_rmsprop\n",
        "print(f'Accuracy rmsprop: {accuracy_rmsprop:.3f}')\n",
        "print(f'Время выполнения rmsprop: {elapsed_time_rmsprop:.3f} секунд')"
      ],
      "metadata": {
        "colab": {
          "base_uri": "https://localhost:8080/"
        },
        "id": "uBW7yCBJ7uR0",
        "outputId": "04d2a7b6-4bf3-4e53-e3ec-41454dd44063"
      },
      "execution_count": null,
      "outputs": [
        {
          "output_type": "stream",
          "name": "stdout",
          "text": [
            "Epoch 0, Loss: 0.6931471805599453\n",
            "Epoch 100, Loss: 0.4015033666910816\n",
            "Epoch 200, Loss: 0.2575211368662632\n",
            "Epoch 300, Loss: 0.17917539949597372\n",
            "Epoch 400, Loss: 0.13318359687233675\n",
            "Epoch 500, Loss: 0.10413036941404223\n",
            "Epoch 600, Loss: 0.08465199460042201\n",
            "Epoch 700, Loss: 0.07094712441228172\n",
            "Epoch 800, Loss: 0.06091002608874742\n",
            "Epoch 900, Loss: 0.0533074551294178\n",
            "Accuracy rmsprop: 0.850\n",
            "Время выполнения rmsprop: 0.040 секунд\n"
          ]
        }
      ]
    },
    {
      "cell_type": "code",
      "source": [
        "# Расчёт nadam\n",
        "start_time_nadam = time.time()\n",
        "weights_nadam = nadam(X_train, y_train, lr=0.001, epochs=1000)\n",
        "predictions_nadam = sigmoid(np.dot(X_test, weights_nadam)) >= 0.5\n",
        "accuracy_nadam = accuracy_score(y_test, predictions_nadam)\n",
        "end_time_nadam = time.time()\n",
        "elapsed_time_nadam = end_time_nadam - start_time_nadam\n",
        "print(f'Accuracy Nadam: {accuracy_nadam:.3f}')\n",
        "print(f'Время выполнения Nadam: {elapsed_time_nadam:.3f} секунд')"
      ],
      "metadata": {
        "colab": {
          "base_uri": "https://localhost:8080/"
        },
        "id": "Gyv3ypln7y9X",
        "outputId": "6e5e68cc-9cd7-4dd5-da61-1e90821b1eae"
      },
      "execution_count": null,
      "outputs": [
        {
          "output_type": "stream",
          "name": "stdout",
          "text": [
            "Epoch 0, Loss: 0.6931471805599453\n",
            "Epoch 100, Loss: 0.6559515943097727\n",
            "Epoch 200, Loss: 0.6217524588538285\n",
            "Epoch 300, Loss: 0.5890773242287743\n",
            "Epoch 400, Loss: 0.5584090824407066\n",
            "Epoch 500, Loss: 0.529801221978087\n",
            "Epoch 600, Loss: 0.503184209056647\n",
            "Epoch 700, Loss: 0.478444141948712\n",
            "Epoch 800, Loss: 0.4554516015857522\n",
            "Epoch 900, Loss: 0.4340744490556913\n",
            "Accuracy Nadam: 0.850\n",
            "Время выполнения Nadam: 0.053 секунд\n"
          ]
        }
      ]
    },
    {
      "cell_type": "code",
      "source": [
        "# Запись результатов в словарь\n",
        "results.loc[len(results)] = ['MY_LR', accuracy, elapsed_time]\n",
        "results.loc[len(results)] = ['GD', accuracy_gd, elapsed_time_gd]\n",
        "results.loc[len(results)] = ['rmsprop', accuracy_rmsprop, elapsed_time_rmsprop]\n",
        "results.loc[len(results)] = ['Nadam', accuracy_nadam, elapsed_time_nadam]"
      ],
      "metadata": {
        "id": "gFfZCX8J75Wz"
      },
      "execution_count": null,
      "outputs": []
    },
    {
      "cell_type": "code",
      "source": [
        "# Вывод результатов\n",
        "print(results)"
      ],
      "metadata": {
        "colab": {
          "base_uri": "https://localhost:8080/"
        },
        "id": "LqZwA3ew7-Aq",
        "outputId": "8e315cd9-547c-4013-b69c-fbde87f17624"
      },
      "execution_count": null,
      "outputs": [
        {
          "output_type": "stream",
          "name": "stdout",
          "text": [
            "    Method  Accuracy      Time\n",
            "0    MY_LR      0.40  0.124074\n",
            "1       GD      0.85  0.058236\n",
            "2  rmsprop      0.85  0.040069\n",
            "3    Nadam      0.85  0.052810\n"
          ]
        }
      ]
    },
    {
      "cell_type": "markdown",
      "source": [
        "**Дополнительный расчёт из стандартной библиотеки**"
      ],
      "metadata": {
        "id": "J_983-IfBan_"
      }
    },
    {
      "cell_type": "code",
      "source": [
        "from sklearn.pipeline import make_pipeline\n",
        "from sklearn.preprocessing import StandardScaler\n",
        "from sklearn.linear_model import LogisticRegression"
      ],
      "metadata": {
        "id": "_PFeeDe7A5fh"
      },
      "execution_count": null,
      "outputs": []
    },
    {
      "cell_type": "code",
      "source": [
        "# Выполним стандартизацию данных\n",
        "model = make_pipeline(\n",
        "    StandardScaler(),\n",
        "    LogisticRegression(max_iter=1000)  # кол-во итераций для обучения\n",
        "    )"
      ],
      "metadata": {
        "id": "mnbwplH9Av57"
      },
      "execution_count": null,
      "outputs": []
    },
    {
      "cell_type": "code",
      "source": [
        "# Выполним обучение модели\n",
        "start_time_box_lr = time.time()\n",
        "model.fit(X_train, y_train)\n",
        "predictions = model.predict(X_test)\n",
        "end_time_box_lr = time.time()\n",
        "elapsed_time_box_lr = end_time_box_lr - start_time_box_lr\n",
        "print(f'Время выполнения готового решения по регрессии: {elapsed_time_nadam:.3f} секунд')"
      ],
      "metadata": {
        "colab": {
          "base_uri": "https://localhost:8080/"
        },
        "id": "T2JUVP4yAzSP",
        "outputId": "a5073013-b3f2-459c-e677-d294d7c68359"
      },
      "execution_count": null,
      "outputs": [
        {
          "output_type": "stream",
          "name": "stdout",
          "text": [
            "Время выполнения готового решения по регрессии: 0.053 секунд\n"
          ]
        }
      ]
    },
    {
      "cell_type": "code",
      "source": [
        "accuracy_box_lr = accuracy_score(y_test, predictions)\n",
        "print(f\"accuracy для логистической регрессии: {test_score_lr:.3f} \")"
      ],
      "metadata": {
        "colab": {
          "base_uri": "https://localhost:8080/"
        },
        "id": "3kc9tXsKBG4B",
        "outputId": "9db70f84-5c1d-4a91-e8e1-553fc80678a1"
      },
      "execution_count": null,
      "outputs": [
        {
          "output_type": "stream",
          "name": "stdout",
          "text": [
            "accuracy для логистической регрессии: 0.800 \n"
          ]
        }
      ]
    },
    {
      "cell_type": "code",
      "source": [
        "results.loc[len(results)] = ['BOX_LR', accuracy_box_lr, elapsed_time_box_lr]"
      ],
      "metadata": {
        "id": "cwRqQX64CKrP"
      },
      "execution_count": null,
      "outputs": []
    },
    {
      "cell_type": "code",
      "source": [
        "print(results)"
      ],
      "metadata": {
        "colab": {
          "base_uri": "https://localhost:8080/"
        },
        "id": "n7ZXH7XzCuuD",
        "outputId": "ae79191d-9261-4895-88fb-fc541f1ea94f"
      },
      "execution_count": null,
      "outputs": [
        {
          "output_type": "stream",
          "name": "stdout",
          "text": [
            "    Method  Accuracy      Time\n",
            "0    MY_LR      0.40  0.124074\n",
            "1       GD      0.85  0.058236\n",
            "2  rmsprop      0.85  0.040069\n",
            "3    Nadam      0.85  0.052810\n",
            "4   BOX_LR      0.80  0.009026\n"
          ]
        }
      ]
    },
    {
      "cell_type": "markdown",
      "source": [
        "**Выводы**"
      ],
      "metadata": {
        "id": "xvMdlfbAC25n"
      }
    },
    {
      "cell_type": "markdown",
      "source": [
        "Для каждого метода выбрал значение итераций для обучения - 1000.\n",
        "При таком количестве итераций лучше всего себя показала rmsprop.\n",
        "Общая сравнительная картина представлена выше в таблице.\n",
        "\n",
        "На мой взгялд, данная выборка мала для обучения модели, однако неплохо себя показывает, даже при использовании стандартного готового метода LogisticRegression.\n",
        "\n",
        "Также видно, что за счёт стандартизации данных время выполнения стандартного решения становится наименьшим среди представленных методов."
      ],
      "metadata": {
        "id": "s-FxLGzJDdOe"
      }
    }
  ]
}