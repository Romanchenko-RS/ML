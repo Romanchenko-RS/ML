{
  "nbformat": 4,
  "nbformat_minor": 0,
  "metadata": {
    "colab": {
      "provenance": [],
      "gpuType": "T4",
      "authorship_tag": "ABX9TyM3S7Jx7VMtNgkofvUkAZ9k",
      "include_colab_link": true
    },
    "kernelspec": {
      "name": "python3",
      "display_name": "Python 3"
    },
    "language_info": {
      "name": "python"
    },
    "accelerator": "GPU",
    "widgets": {
      "application/vnd.jupyter.widget-state+json": {
        "09a25ff9546a450d9e4ced90702ef3de": {
          "model_module": "@jupyter-widgets/controls",
          "model_name": "HBoxModel",
          "model_module_version": "1.5.0",
          "state": {
            "_dom_classes": [],
            "_model_module": "@jupyter-widgets/controls",
            "_model_module_version": "1.5.0",
            "_model_name": "HBoxModel",
            "_view_count": null,
            "_view_module": "@jupyter-widgets/controls",
            "_view_module_version": "1.5.0",
            "_view_name": "HBoxView",
            "box_style": "",
            "children": [
              "IPY_MODEL_656dd97565bb4cae9c57e76b2fadc64b",
              "IPY_MODEL_bed0383b6ff84163830f6cf95b3649d5",
              "IPY_MODEL_4972c0b05e9d42dd968967dfe54016a3"
            ],
            "layout": "IPY_MODEL_ff1ae53dbb7241ee8e3bc7a11d02c355"
          }
        },
        "656dd97565bb4cae9c57e76b2fadc64b": {
          "model_module": "@jupyter-widgets/controls",
          "model_name": "HTMLModel",
          "model_module_version": "1.5.0",
          "state": {
            "_dom_classes": [],
            "_model_module": "@jupyter-widgets/controls",
            "_model_module_version": "1.5.0",
            "_model_name": "HTMLModel",
            "_view_count": null,
            "_view_module": "@jupyter-widgets/controls",
            "_view_module_version": "1.5.0",
            "_view_name": "HTMLView",
            "description": "",
            "description_tooltip": null,
            "layout": "IPY_MODEL_94efd6c0c7604d6493701cf92cf71746",
            "placeholder": "​",
            "style": "IPY_MODEL_8d052f7a025741e599c9f0e0a0003811",
            "value": "100%"
          }
        },
        "bed0383b6ff84163830f6cf95b3649d5": {
          "model_module": "@jupyter-widgets/controls",
          "model_name": "FloatProgressModel",
          "model_module_version": "1.5.0",
          "state": {
            "_dom_classes": [],
            "_model_module": "@jupyter-widgets/controls",
            "_model_module_version": "1.5.0",
            "_model_name": "FloatProgressModel",
            "_view_count": null,
            "_view_module": "@jupyter-widgets/controls",
            "_view_module_version": "1.5.0",
            "_view_name": "ProgressView",
            "bar_style": "success",
            "description": "",
            "description_tooltip": null,
            "layout": "IPY_MODEL_323bd766202e4623ab3a9ef572276afc",
            "max": 3,
            "min": 0,
            "orientation": "horizontal",
            "style": "IPY_MODEL_bbdb884916e84cbcadb66bf52f0abe27",
            "value": 3
          }
        },
        "4972c0b05e9d42dd968967dfe54016a3": {
          "model_module": "@jupyter-widgets/controls",
          "model_name": "HTMLModel",
          "model_module_version": "1.5.0",
          "state": {
            "_dom_classes": [],
            "_model_module": "@jupyter-widgets/controls",
            "_model_module_version": "1.5.0",
            "_model_name": "HTMLModel",
            "_view_count": null,
            "_view_module": "@jupyter-widgets/controls",
            "_view_module_version": "1.5.0",
            "_view_name": "HTMLView",
            "description": "",
            "description_tooltip": null,
            "layout": "IPY_MODEL_aebce0bb4e534960999c9c5c0ef14d61",
            "placeholder": "​",
            "style": "IPY_MODEL_e414073e27a045358c3eeabaf7349be7",
            "value": " 3/3 [23:28&lt;00:00, 469.35s/it]"
          }
        },
        "ff1ae53dbb7241ee8e3bc7a11d02c355": {
          "model_module": "@jupyter-widgets/base",
          "model_name": "LayoutModel",
          "model_module_version": "1.2.0",
          "state": {
            "_model_module": "@jupyter-widgets/base",
            "_model_module_version": "1.2.0",
            "_model_name": "LayoutModel",
            "_view_count": null,
            "_view_module": "@jupyter-widgets/base",
            "_view_module_version": "1.2.0",
            "_view_name": "LayoutView",
            "align_content": null,
            "align_items": null,
            "align_self": null,
            "border": null,
            "bottom": null,
            "display": null,
            "flex": null,
            "flex_flow": null,
            "grid_area": null,
            "grid_auto_columns": null,
            "grid_auto_flow": null,
            "grid_auto_rows": null,
            "grid_column": null,
            "grid_gap": null,
            "grid_row": null,
            "grid_template_areas": null,
            "grid_template_columns": null,
            "grid_template_rows": null,
            "height": null,
            "justify_content": null,
            "justify_items": null,
            "left": null,
            "margin": null,
            "max_height": null,
            "max_width": null,
            "min_height": null,
            "min_width": null,
            "object_fit": null,
            "object_position": null,
            "order": null,
            "overflow": null,
            "overflow_x": null,
            "overflow_y": null,
            "padding": null,
            "right": null,
            "top": null,
            "visibility": null,
            "width": null
          }
        },
        "94efd6c0c7604d6493701cf92cf71746": {
          "model_module": "@jupyter-widgets/base",
          "model_name": "LayoutModel",
          "model_module_version": "1.2.0",
          "state": {
            "_model_module": "@jupyter-widgets/base",
            "_model_module_version": "1.2.0",
            "_model_name": "LayoutModel",
            "_view_count": null,
            "_view_module": "@jupyter-widgets/base",
            "_view_module_version": "1.2.0",
            "_view_name": "LayoutView",
            "align_content": null,
            "align_items": null,
            "align_self": null,
            "border": null,
            "bottom": null,
            "display": null,
            "flex": null,
            "flex_flow": null,
            "grid_area": null,
            "grid_auto_columns": null,
            "grid_auto_flow": null,
            "grid_auto_rows": null,
            "grid_column": null,
            "grid_gap": null,
            "grid_row": null,
            "grid_template_areas": null,
            "grid_template_columns": null,
            "grid_template_rows": null,
            "height": null,
            "justify_content": null,
            "justify_items": null,
            "left": null,
            "margin": null,
            "max_height": null,
            "max_width": null,
            "min_height": null,
            "min_width": null,
            "object_fit": null,
            "object_position": null,
            "order": null,
            "overflow": null,
            "overflow_x": null,
            "overflow_y": null,
            "padding": null,
            "right": null,
            "top": null,
            "visibility": null,
            "width": null
          }
        },
        "8d052f7a025741e599c9f0e0a0003811": {
          "model_module": "@jupyter-widgets/controls",
          "model_name": "DescriptionStyleModel",
          "model_module_version": "1.5.0",
          "state": {
            "_model_module": "@jupyter-widgets/controls",
            "_model_module_version": "1.5.0",
            "_model_name": "DescriptionStyleModel",
            "_view_count": null,
            "_view_module": "@jupyter-widgets/base",
            "_view_module_version": "1.2.0",
            "_view_name": "StyleView",
            "description_width": ""
          }
        },
        "323bd766202e4623ab3a9ef572276afc": {
          "model_module": "@jupyter-widgets/base",
          "model_name": "LayoutModel",
          "model_module_version": "1.2.0",
          "state": {
            "_model_module": "@jupyter-widgets/base",
            "_model_module_version": "1.2.0",
            "_model_name": "LayoutModel",
            "_view_count": null,
            "_view_module": "@jupyter-widgets/base",
            "_view_module_version": "1.2.0",
            "_view_name": "LayoutView",
            "align_content": null,
            "align_items": null,
            "align_self": null,
            "border": null,
            "bottom": null,
            "display": null,
            "flex": null,
            "flex_flow": null,
            "grid_area": null,
            "grid_auto_columns": null,
            "grid_auto_flow": null,
            "grid_auto_rows": null,
            "grid_column": null,
            "grid_gap": null,
            "grid_row": null,
            "grid_template_areas": null,
            "grid_template_columns": null,
            "grid_template_rows": null,
            "height": null,
            "justify_content": null,
            "justify_items": null,
            "left": null,
            "margin": null,
            "max_height": null,
            "max_width": null,
            "min_height": null,
            "min_width": null,
            "object_fit": null,
            "object_position": null,
            "order": null,
            "overflow": null,
            "overflow_x": null,
            "overflow_y": null,
            "padding": null,
            "right": null,
            "top": null,
            "visibility": null,
            "width": null
          }
        },
        "bbdb884916e84cbcadb66bf52f0abe27": {
          "model_module": "@jupyter-widgets/controls",
          "model_name": "ProgressStyleModel",
          "model_module_version": "1.5.0",
          "state": {
            "_model_module": "@jupyter-widgets/controls",
            "_model_module_version": "1.5.0",
            "_model_name": "ProgressStyleModel",
            "_view_count": null,
            "_view_module": "@jupyter-widgets/base",
            "_view_module_version": "1.2.0",
            "_view_name": "StyleView",
            "bar_color": null,
            "description_width": ""
          }
        },
        "aebce0bb4e534960999c9c5c0ef14d61": {
          "model_module": "@jupyter-widgets/base",
          "model_name": "LayoutModel",
          "model_module_version": "1.2.0",
          "state": {
            "_model_module": "@jupyter-widgets/base",
            "_model_module_version": "1.2.0",
            "_model_name": "LayoutModel",
            "_view_count": null,
            "_view_module": "@jupyter-widgets/base",
            "_view_module_version": "1.2.0",
            "_view_name": "LayoutView",
            "align_content": null,
            "align_items": null,
            "align_self": null,
            "border": null,
            "bottom": null,
            "display": null,
            "flex": null,
            "flex_flow": null,
            "grid_area": null,
            "grid_auto_columns": null,
            "grid_auto_flow": null,
            "grid_auto_rows": null,
            "grid_column": null,
            "grid_gap": null,
            "grid_row": null,
            "grid_template_areas": null,
            "grid_template_columns": null,
            "grid_template_rows": null,
            "height": null,
            "justify_content": null,
            "justify_items": null,
            "left": null,
            "margin": null,
            "max_height": null,
            "max_width": null,
            "min_height": null,
            "min_width": null,
            "object_fit": null,
            "object_position": null,
            "order": null,
            "overflow": null,
            "overflow_x": null,
            "overflow_y": null,
            "padding": null,
            "right": null,
            "top": null,
            "visibility": null,
            "width": null
          }
        },
        "e414073e27a045358c3eeabaf7349be7": {
          "model_module": "@jupyter-widgets/controls",
          "model_name": "DescriptionStyleModel",
          "model_module_version": "1.5.0",
          "state": {
            "_model_module": "@jupyter-widgets/controls",
            "_model_module_version": "1.5.0",
            "_model_name": "DescriptionStyleModel",
            "_view_count": null,
            "_view_module": "@jupyter-widgets/base",
            "_view_module_version": "1.2.0",
            "_view_name": "StyleView",
            "description_width": ""
          }
        }
      }
    }
  },
  "cells": [
    {
      "cell_type": "markdown",
      "metadata": {
        "id": "view-in-github",
        "colab_type": "text"
      },
      "source": [
        "<a href=\"https://colab.research.google.com/github/Romanchenko-RS/ML/blob/main/%D0%A1%D0%B2%D1%91%D1%80%D1%82%D0%BE%D1%87%D0%BD%D1%8B%D0%B5_%D1%81%D0%B5%D1%82%D0%B8_%D0%A0%D0%BE%D0%BC%D0%B0%D0%BD%D1%87%D0%B5%D0%BD%D0%BA%D0%BE_%D0%A0_%D0%A1_.ipynb\" target=\"_parent\"><img src=\"https://colab.research.google.com/assets/colab-badge.svg\" alt=\"Open In Colab\"/></a>"
      ]
    },
    {
      "cell_type": "markdown",
      "source": [
        "**Импорт необходимых библиотек**"
      ],
      "metadata": {
        "id": "QDuwmrZLgOWr"
      }
    },
    {
      "cell_type": "code",
      "execution_count": null,
      "metadata": {
        "id": "JU3ZmortfZ6U"
      },
      "outputs": [],
      "source": [
        "import tensorflow as tf\n",
        "from tqdm import tqdm_notebook\n",
        "import numpy as np\n",
        "from keras.datasets import cifar10\n",
        "from sklearn.model_selection import train_test_split\n",
        "import matplotlib.pyplot as plt\n",
        "import keras\n",
        "from keras import layers as L\n",
        "from keras import backend as K\n",
        "from sklearn.metrics import accuracy_score\n",
        "from tensorflow.keras import layers, models\n",
        "from tensorflow.keras import optimizers\n",
        "from collections import OrderedDict\n",
        "from tensorflow.keras.preprocessing.image import ImageDataGenerator\n",
        "from tensorflow.keras.layers import Dropout\n",
        "from tensorflow.keras.callbacks import EarlyStopping, ModelCheckpoint\n",
        "from tensorflow.keras.optimizers import Adam"
      ]
    },
    {
      "cell_type": "markdown",
      "source": [
        "**Подготовка данных**"
      ],
      "metadata": {
        "id": "F02PS9sVgTiz"
      }
    },
    {
      "cell_type": "code",
      "source": [
        "\n",
        "(X_train, y_train), (X_test, y_test) = cifar10.load_data()\n",
        "X_train, X_val, y_train, y_val = train_test_split(X_train, y_train, test_size=10**4, random_state=42)\n",
        "\n",
        "class_names = np.array(['airplane','automobile ','bird ','cat ','deer ','dog ','frog ','horse ','ship ','truck'])\n",
        "\n",
        "print (X_train.shape,y_train.shape)"
      ],
      "metadata": {
        "colab": {
          "base_uri": "https://localhost:8080/"
        },
        "id": "LKMJPNc3gBzE",
        "outputId": "47ae26c1-10fc-4b74-e789-15dedad61d4a"
      },
      "execution_count": null,
      "outputs": [
        {
          "output_type": "stream",
          "name": "stdout",
          "text": [
            "(40000, 32, 32, 3) (40000, 1)\n"
          ]
        }
      ]
    },
    {
      "cell_type": "code",
      "source": [
        "%matplotlib inline\n",
        "\n",
        "plt.figure(figsize=[12,10])\n",
        "for i in range(12):\n",
        "    plt.subplot(3, 4, i + 1)\n",
        "    plt.xlabel(class_names[y_train[i, 0]])\n",
        "    plt.imshow(X_train[i])"
      ],
      "metadata": {
        "colab": {
          "base_uri": "https://localhost:8080/",
          "height": 848
        },
        "id": "91RuvqQEgI9i",
        "outputId": "e06fb6d3-1948-474f-f990-5b603d0113ac"
      },
      "execution_count": null,
      "outputs": [
        {
          "output_type": "display_data",
          "data": {
            "text/plain": [
              "<Figure size 1200x1000 with 12 Axes>"
            ],
            "image/png": "[encoded data removed]"
          },
          "metadata": {}
        }
      ]
    },
    {
      "cell_type": "markdown",
      "source": [
        "Приведём все данные в диапазон"
      ],
      "metadata": {
        "id": "Xs8g6bWbgdib"
      }
    },
    {
      "cell_type": "code",
      "source": [
        "X_train = X_train / 255\n",
        "X_val = X_val / 255\n",
        "X_test = X_test / 255"
      ],
      "metadata": {
        "id": "x8BWs-tIgbox"
      },
      "execution_count": null,
      "outputs": []
    },
    {
      "cell_type": "code",
      "source": [
        "assert np.shape(X_train) == (40000, 32, 32, 3), \"data shape should not change\"\n",
        "assert 0.9 <= max(map(np.max, (X_train, X_val, X_test))) <= 1.05\n",
        "assert 0.0 <= min(map(np.min, (X_train, X_val, X_test))) <= 0.1\n",
        "assert len(np.unique(X_test / 255.)) > 10, \"make sure you casted data to float type\""
      ],
      "metadata": {
        "id": "nCvvtecegisZ"
      },
      "execution_count": null,
      "outputs": []
    },
    {
      "cell_type": "markdown",
      "source": [
        "**Реализация простой нейросети**"
      ],
      "metadata": {
        "id": "pQSswAIf7QGU"
      }
    },
    {
      "cell_type": "code",
      "source": [
        "model = tf.keras.models.Sequential([\n",
        "        tf.keras.layers.Dense(32, activation='relu', input_shape=X_train.shape[1:]),\n",
        "        tf.keras.layers.Flatten(),\n",
        "        tf.keras.layers.Dense(32, activation='relu'),\n",
        "        tf.keras.layers.Dense(32, activation='relu'),\n",
        "        tf.keras.layers.Dense(10, activation='softmax')\n",
        "\n",
        "])"
      ],
      "metadata": {
        "id": "GrG38tmm7Pgt"
      },
      "execution_count": null,
      "outputs": []
    },
    {
      "cell_type": "code",
      "source": [
        "dummy_pred = model.predict(X_train[:20])\n",
        "assert dummy_pred.shape == (20, 10)\n",
        "assert np.allclose(dummy_pred.sum(-1), 1)\n",
        "print(\"Успех!\")"
      ],
      "metadata": {
        "colab": {
          "base_uri": "https://localhost:8080/"
        },
        "id": "PTpfFjU87VrD",
        "outputId": "17d45533-0a4a-48f5-d5f0-3d2bc437b43a"
      },
      "execution_count": null,
      "outputs": [
        {
          "output_type": "stream",
          "name": "stdout",
          "text": [
            "1/1 [==============================] - 0s 122ms/step\n",
            "Успех!\n"
          ]
        }
      ]
    },
    {
      "cell_type": "markdown",
      "source": [
        "**1.1 Будем минимизировать многоклассовую кроссэнтропию с помощью sgd. Необходимо получить сеть, которая достигнет не менее 45% accuracy на тестовых данных.**"
      ],
      "metadata": {
        "id": "7kmf3D0A9Y1e"
      }
    },
    {
      "cell_type": "code",
      "source": [
        "y_train, y_val = (keras.utils.to_categorical(y) for y in (y_train, y_val))"
      ],
      "metadata": {
        "id": "PGRUR_TB7ztg"
      },
      "execution_count": null,
      "outputs": []
    },
    {
      "cell_type": "code",
      "source": [
        "callbacks = [tf.keras.callbacks.ModelCheckpoint(filepath='model.{epoch:02d}-{val_loss:.2f}.h5'),\n",
        "             tf.keras.callbacks.TensorBoard(log_dir='./logs'),\n",
        "             tf.keras.callbacks.EarlyStopping(patience=3)]"
      ],
      "metadata": {
        "id": "8lgY_1nK71T2"
      },
      "execution_count": null,
      "outputs": []
    },
    {
      "cell_type": "code",
      "source": [
        "## TODO\n",
        "model.compile(loss='categorical_crossentropy', optimizer='adam', metrics=['accuracy'])\n",
        "model.fit(X_train, y_train, batch_size=16, epochs=32, callbacks=callbacks, validation_split=0.2)"
      ],
      "metadata": {
        "colab": {
          "base_uri": "https://localhost:8080/"
        },
        "id": "9rM24xsV73fr",
        "outputId": "9fe665fa-b471-4c00-fc69-83b28bc1f417"
      },
      "execution_count": null,
      "outputs": [
        {
          "output_type": "stream",
          "name": "stdout",
          "text": [
            "Epoch 1/32\n",
            "2000/2000 [==============================] - 10s 4ms/step - loss: 1.7336 - accuracy: 0.3734 - val_loss: 1.6101 - val_accuracy: 0.4256\n",
            "Epoch 2/32\n",
            "  24/2000 [..............................] - ETA: 9s - loss: 1.5353 - accuracy: 0.4297"
          ]
        },
        {
          "output_type": "stream",
          "name": "stderr",
          "text": [
            "/usr/local/lib/python3.10/dist-packages/keras/src/engine/training.py:3103: UserWarning: You are saving your model as an HDF5 file via `model.save()`. This file format is considered legacy. We recommend using instead the native Keras format, e.g. `model.save('my_model.keras')`.\n",
            "  saving_api.save_model(\n"
          ]
        },
        {
          "output_type": "stream",
          "name": "stdout",
          "text": [
            "2000/2000 [==============================] - 8s 4ms/step - loss: 1.5356 - accuracy: 0.4504 - val_loss: 1.5421 - val_accuracy: 0.4541\n",
            "Epoch 3/32\n",
            "2000/2000 [==============================] - 8s 4ms/step - loss: 1.4686 - accuracy: 0.4753 - val_loss: 1.5212 - val_accuracy: 0.4625\n",
            "Epoch 4/32\n",
            "2000/2000 [==============================] - 8s 4ms/step - loss: 1.4173 - accuracy: 0.4940 - val_loss: 1.5185 - val_accuracy: 0.4621\n",
            "Epoch 5/32\n",
            "2000/2000 [==============================] - 9s 4ms/step - loss: 1.3770 - accuracy: 0.5095 - val_loss: 1.4896 - val_accuracy: 0.4690\n",
            "Epoch 6/32\n",
            "2000/2000 [==============================] - 8s 4ms/step - loss: 1.3339 - accuracy: 0.5247 - val_loss: 1.4859 - val_accuracy: 0.4736\n",
            "Epoch 7/32\n",
            "2000/2000 [==============================] - 7s 4ms/step - loss: 1.2989 - accuracy: 0.5367 - val_loss: 1.4959 - val_accuracy: 0.4725\n",
            "Epoch 8/32\n",
            "2000/2000 [==============================] - 8s 4ms/step - loss: 1.2648 - accuracy: 0.5481 - val_loss: 1.5286 - val_accuracy: 0.4744\n",
            "Epoch 9/32\n",
            "2000/2000 [==============================] - 8s 4ms/step - loss: 1.2345 - accuracy: 0.5573 - val_loss: 1.5066 - val_accuracy: 0.4755\n"
          ]
        },
        {
          "output_type": "execute_result",
          "data": {
            "text/plain": [
              "<keras.src.callbacks.History at 0x7ad40b0c2020>"
            ]
          },
          "metadata": {},
          "execution_count": 63
        }
      ]
    },
    {
      "cell_type": "markdown",
      "source": [
        "Пробовал изменять значения batch_size и количество epochs, но самое оптимальное значение по качеству и времени работы у параметров batch_size = 16 и epochs = 32."
      ],
      "metadata": {
        "id": "IbTgtWEbKH8q"
      }
    },
    {
      "cell_type": "code",
      "source": [
        "predict_x=model.predict(X_test)\n",
        "classes_x=np.argmax(predict_x,axis=1)\n",
        "\n",
        "test_acc = accuracy_score(y_test, classes_x)\n",
        "print(\"\\n Test_acc =\", test_acc)\n",
        "assert test_acc > 0.45, \"Not good enough. Back to the drawing board :)\"\n",
        "print(\" Not bad!\")"
      ],
      "metadata": {
        "colab": {
          "base_uri": "https://localhost:8080/"
        },
        "id": "n2zaONZRAPgw",
        "outputId": "3d086c60-d77f-4e12-f454-f44ed1084403"
      },
      "execution_count": null,
      "outputs": [
        {
          "output_type": "stream",
          "name": "stdout",
          "text": [
            "313/313 [==============================] - 1s 2ms/step\n",
            "\n",
            " Test_acc = 0.4848\n",
            " Not bad!\n"
          ]
        }
      ]
    },
    {
      "cell_type": "markdown",
      "source": [
        "## Карманная сверточная сеть\n",
        "\n",
        "**Задание 1.2 (обязательно)** Реализуйте небольшую свёрточную сеть. Совсем небольшую:\n",
        "1. Входной слой\n",
        "2. Свёртка 3x3 с 10 фильтрами\n",
        "3. Нелинейность на ваш вкус\n",
        "4. Max-pooling 2x2\n",
        "5. Вытягиваем оставшееся в вектор (Flatten)\n",
        "6. Полносвязный слой на 100 нейронов\n",
        "7. Нелинейность на ваш вкус\n",
        "8. Выходной полносвязный слой с softmax\n",
        "\n",
        "Обучите её так же, как и предыдущую сеть. Если всё хорошо, у вас получится accuracy не меньше __50%__."
      ],
      "metadata": {
        "id": "IOVzZQ--EiHN"
      }
    },
    {
      "cell_type": "code",
      "source": [
        "## TODO\n",
        "new_model = tf.keras.models.Sequential([\n",
        "    layers.Conv2D(10, kernel_size=(3, 3), activation='relu', input_shape=(32, 32, 3)),\n",
        "    layers.MaxPooling2D(pool_size=(2, 2)),\n",
        "    layers.Flatten(),\n",
        "    layers.Dense(units=100, activation='relu'),\n",
        "    layers.Dense(units=10, activation='softmax')\n",
        "])\n",
        "\n"
      ],
      "metadata": {
        "id": "m6sqvwDBFkk0"
      },
      "execution_count": null,
      "outputs": []
    },
    {
      "cell_type": "code",
      "source": [
        "new_callbacks = [tf.keras.callbacks.ModelCheckpoint(filepath='new_model.{epoch:02d}-{val_loss:.2f}.h5'),\n",
        "             tf.keras.callbacks.TensorBoard(log_dir='./logs'),\n",
        "             tf.keras.callbacks.EarlyStopping(patience=3)]"
      ],
      "metadata": {
        "id": "wlUHlS_zHkbf"
      },
      "execution_count": null,
      "outputs": []
    },
    {
      "cell_type": "code",
      "source": [
        "## TODO\n",
        "new_model.compile(loss='categorical_crossentropy', optimizer='adam', metrics=['accuracy'])\n",
        "new_model.fit(X_train, y_train, batch_size=16, epochs=32, callbacks=new_callbacks, validation_split=0.2)"
      ],
      "metadata": {
        "colab": {
          "base_uri": "https://localhost:8080/"
        },
        "id": "HybQCQQ5Hn_R",
        "outputId": "af213fa1-11d2-409e-a2d5-e4d1f150a94d"
      },
      "execution_count": null,
      "outputs": [
        {
          "output_type": "stream",
          "name": "stdout",
          "text": [
            "Epoch 1/32\n",
            "2000/2000 [==============================] - 10s 4ms/step - loss: 1.6437 - accuracy: 0.4063 - val_loss: 1.4067 - val_accuracy: 0.4952\n",
            "Epoch 2/32\n",
            "  51/2000 [..............................] - ETA: 5s - loss: 1.4008 - accuracy: 0.4841"
          ]
        },
        {
          "output_type": "stream",
          "name": "stderr",
          "text": [
            "/usr/local/lib/python3.10/dist-packages/keras/src/engine/training.py:3103: UserWarning: You are saving your model as an HDF5 file via `model.save()`. This file format is considered legacy. We recommend using instead the native Keras format, e.g. `model.save('my_model.keras')`.\n",
            "  saving_api.save_model(\n"
          ]
        },
        {
          "output_type": "stream",
          "name": "stdout",
          "text": [
            "2000/2000 [==============================] - 7s 4ms/step - loss: 1.3606 - accuracy: 0.5123 - val_loss: 1.4170 - val_accuracy: 0.4942\n",
            "Epoch 3/32\n",
            "2000/2000 [==============================] - 8s 4ms/step - loss: 1.2836 - accuracy: 0.5467 - val_loss: 1.3366 - val_accuracy: 0.5235\n",
            "Epoch 4/32\n",
            "2000/2000 [==============================] - 8s 4ms/step - loss: 1.2319 - accuracy: 0.5634 - val_loss: 1.3339 - val_accuracy: 0.5224\n",
            "Epoch 5/32\n",
            "2000/2000 [==============================] - 8s 4ms/step - loss: 1.1883 - accuracy: 0.5819 - val_loss: 1.3236 - val_accuracy: 0.5383\n",
            "Epoch 6/32\n",
            "2000/2000 [==============================] - 9s 4ms/step - loss: 1.1465 - accuracy: 0.5972 - val_loss: 1.2656 - val_accuracy: 0.5561\n",
            "Epoch 7/32\n",
            "2000/2000 [==============================] - 8s 4ms/step - loss: 1.1114 - accuracy: 0.6091 - val_loss: 1.3353 - val_accuracy: 0.5334\n",
            "Epoch 8/32\n",
            "2000/2000 [==============================] - 8s 4ms/step - loss: 1.0773 - accuracy: 0.6214 - val_loss: 1.2663 - val_accuracy: 0.5558\n",
            "Epoch 9/32\n",
            "2000/2000 [==============================] - 9s 4ms/step - loss: 1.0440 - accuracy: 0.6361 - val_loss: 1.2655 - val_accuracy: 0.5604\n",
            "Epoch 10/32\n",
            "2000/2000 [==============================] - 8s 4ms/step - loss: 1.0162 - accuracy: 0.6423 - val_loss: 1.2691 - val_accuracy: 0.5617\n",
            "Epoch 11/32\n",
            "2000/2000 [==============================] - 9s 4ms/step - loss: 0.9930 - accuracy: 0.6488 - val_loss: 1.2362 - val_accuracy: 0.5726\n",
            "Epoch 12/32\n",
            "2000/2000 [==============================] - 8s 4ms/step - loss: 0.9615 - accuracy: 0.6630 - val_loss: 1.2665 - val_accuracy: 0.5620\n",
            "Epoch 13/32\n",
            "2000/2000 [==============================] - 8s 4ms/step - loss: 0.9391 - accuracy: 0.6711 - val_loss: 1.2886 - val_accuracy: 0.5636\n",
            "Epoch 14/32\n",
            "2000/2000 [==============================] - 9s 4ms/step - loss: 0.9140 - accuracy: 0.6814 - val_loss: 1.2883 - val_accuracy: 0.5796\n"
          ]
        },
        {
          "output_type": "execute_result",
          "data": {
            "text/plain": [
              "<keras.src.callbacks.History at 0x7ad40aed5f00>"
            ]
          },
          "metadata": {},
          "execution_count": 67
        }
      ]
    },
    {
      "cell_type": "code",
      "source": [
        "predict_x = new_model.predict(X_test)\n",
        "classes_x = np.argmax(predict_x,axis=1)\n",
        "\n",
        "test_acc = accuracy_score(y_test, classes_x)\n",
        "print(\"\\n Test_acc =\", test_acc)\n",
        "assert test_acc > 0.50, \"Not good enough. Back to the drawing board :)\"\n",
        "print(\" Not bad!\")"
      ],
      "metadata": {
        "colab": {
          "base_uri": "https://localhost:8080/"
        },
        "id": "bYuZdCE_IN2L",
        "outputId": "58c65176-d6dd-4d5b-8f82-1f33d39b27d8"
      },
      "execution_count": null,
      "outputs": [
        {
          "output_type": "stream",
          "name": "stdout",
          "text": [
            "313/313 [==============================] - 1s 2ms/step\n",
            "\n",
            " Test_acc = 0.5774\n",
            " Not bad!\n"
          ]
        }
      ]
    },
    {
      "cell_type": "markdown",
      "source": [
        "**Задание 1.3 (опционально)** Попробуйте использовать различные методы оптимизации (sgd, momentum, adam) с параметрами по умолчанию. Какой из методов работает лучше?"
      ],
      "metadata": {
        "id": "ViIk-IuhIf6Z"
      }
    },
    {
      "cell_type": "markdown",
      "source": [
        "Для удобства напишем класс Evaluator, который принимает в себя дикты виды {имя_оптимайзера: инстанс}, {имя модели: инстанс} и обучает всевозможные комбинации моделей с оптимайзерами при помощи метода fit (попутно записывая логи отдельно для каждой модели). Также пригодится метод evaluate для отображения итоговых скоров."
      ],
      "metadata": {
        "id": "d-0v6W9EIlFl"
      }
    },
    {
      "cell_type": "code",
      "source": [
        "class Evaluator(list):\n",
        "    def __init__(self, models, optimizers='adam', loss=keras.losses.categorical_crossentropy,\n",
        "                 metrics=[keras.metrics.categorical_accuracy]):\n",
        "        '''\n",
        "            models: dict {name: model}\n",
        "            optimizers: list of optimizers or just one optimizer\n",
        "        '''\n",
        "        if not isinstance(models, dict):\n",
        "            models = {'single_model': models}\n",
        "        if not isinstance(optimizers, dict):\n",
        "            optimizers = {str(optimizers.__class__): optimizers}\n",
        "        super().__init__([(model_name, keras.models.clone_model(model), optimizer_name, optimizer)\n",
        "                          for model_name, model in models.items()\n",
        "                          for optimizer_name, optimizer in optimizers.items()])\n",
        "        for _, model, _, optimizer in self:\n",
        "            model.compile(optimizer=optimizer, loss=loss, metrics=metrics)\n",
        "\n",
        "    def fit(self, X, y, validation_data=(), max_epochs=100, verbose=0, callbacks=[], batch_size=32):\n",
        "        if not isinstance(callbacks, list):\n",
        "            callbacks = [callbacks]\n",
        "        for model_name, model, optimizer_name, optimizer in tqdm_notebook(self):\n",
        "            model.fit(X, y, validation_data=validation_data or None, epochs=max_epochs, verbose=verbose,\n",
        "                      batch_size=batch_size, callbacks=callbacks + [keras.callbacks.TensorBoard(\n",
        "                          log_dir='./logs/{}_{}'.format(model_name, optimizer_name))])\n",
        "\n",
        "    def fit_generator(self, X, y, validation_data=(), max_epochs=100, verbose=1, callbacks=[], batch_size=32):\n",
        "        datagen = keras.preprocessing.image.ImageDataGenerator(\n",
        "            rotation_range=20,\n",
        "            width_shift_range=0.2,\n",
        "            height_shift_range=0.2,\n",
        "            horizontal_flip=True\n",
        "        )\n",
        "        if not isinstance(callbacks, list):\n",
        "            callbacks = [callbacks]\n",
        "        for model_name, model, optimizer_name, optimizer in tqdm_notebook(self):\n",
        "            model.fit_generator(datagen.flow(X, y, batch_size=batch_size), epochs=max_epochs,\n",
        "                validation_data=validation_data or None, verbose=verbose,\n",
        "                callbacks=callbacks + [keras.callbacks.TensorBoard(\n",
        "                    log_dir='./logs/{}_{}'.format(model_name, optimizer_name))])\n",
        "\n",
        "    def evaluate(self, X, y, metric):\n",
        "        for model_name, model, optimizer_name, _ in self:\n",
        "            print('Final score of {}_{} is {}'.format(model_name, optimizer_name,\n",
        "                  metric(y_test, model.predict(X_test).argmax(axis=1))))"
      ],
      "metadata": {
        "id": "aaHY9c4aIfKc"
      },
      "execution_count": null,
      "outputs": []
    },
    {
      "cell_type": "code",
      "source": [
        "!rm -rf ./logs"
      ],
      "metadata": {
        "id": "rjAzS2qIIulK"
      },
      "execution_count": null,
      "outputs": []
    },
    {
      "cell_type": "code",
      "source": [
        "## TODO\n",
        "optimizers = {\n",
        "    'sgd': optimizers.SGD(),  # Стохастический градиентный спуск (SGD) без момента\n",
        "    'momentum': optimizers.SGD(learning_rate=0.01, momentum=0.9),  # SGD с моментом\n",
        "    'adam': optimizers.Adam()  # Оптимизатор Adam\n",
        "    }"
      ],
      "metadata": {
        "id": "iGUw7gYIIzK5"
      },
      "execution_count": null,
      "outputs": []
    },
    {
      "cell_type": "code",
      "source": [
        "evaluator = Evaluator(model, optimizers=optimizers)\n",
        "evaluator.fit(X_train, y_train, validation_data=(X_val, y_val))\n",
        "evaluator.evaluate(X_test, y_test, accuracy_score)"
      ],
      "metadata": {
        "colab": {
          "base_uri": "https://localhost:8080/",
          "height": 205,
          "referenced_widgets": [
            "09a25ff9546a450d9e4ced90702ef3de",
            "656dd97565bb4cae9c57e76b2fadc64b",
            "bed0383b6ff84163830f6cf95b3649d5",
            "4972c0b05e9d42dd968967dfe54016a3",
            "ff1ae53dbb7241ee8e3bc7a11d02c355",
            "94efd6c0c7604d6493701cf92cf71746",
            "8d052f7a025741e599c9f0e0a0003811",
            "323bd766202e4623ab3a9ef572276afc",
            "bbdb884916e84cbcadb66bf52f0abe27",
            "aebce0bb4e534960999c9c5c0ef14d61",
            "e414073e27a045358c3eeabaf7349be7"
          ]
        },
        "id": "PO2z5_jeI-33",
        "outputId": "d0385f7e-47e9-464b-fb92-781b935d5c07"
      },
      "execution_count": null,
      "outputs": [
        {
          "output_type": "stream",
          "name": "stderr",
          "text": [
            "<ipython-input-69-e9ddea6ddcac>:21: TqdmDeprecationWarning: This function will be removed in tqdm==5.0.0\n",
            "Please use `tqdm.notebook.tqdm` instead of `tqdm.tqdm_notebook`\n",
            "  for model_name, model, optimizer_name, optimizer in tqdm_notebook(self):\n"
          ]
        },
        {
          "output_type": "display_data",
          "data": {
            "text/plain": [
              "  0%|          | 0/3 [00:00<?, ?it/s]"
            ],
            "application/vnd.jupyter.widget-view+json": {
              "version_major": 2,
              "version_minor": 0,
              "model_id": "09a25ff9546a450d9e4ced90702ef3de"
            }
          },
          "metadata": {}
        },
        {
          "output_type": "stream",
          "name": "stdout",
          "text": [
            "313/313 [==============================] - 1s 2ms/step\n",
            "Final score of single_model_sgd is 0.4619\n",
            "313/313 [==============================] - 1s 2ms/step\n",
            "Final score of single_model_momentum is 0.4491\n",
            "313/313 [==============================] - 1s 2ms/step\n",
            "Final score of single_model_adam is 0.3875\n"
          ]
        }
      ]
    },
    {
      "cell_type": "markdown",
      "source": [
        "Можем заметить, что оптимизатор sgd имеет наибольшее значение accuracy_score."
      ],
      "metadata": {
        "id": "sfAm-s23RO1q"
      }
    },
    {
      "cell_type": "markdown",
      "source": [
        "**Задание 1.4 (опционально) Добавьте нормализацию по батчу (BatchNormalization) между свёрткой и активацией. Попробуйте использовать несколько нормализаций — в свёрточных и полносвязных слоях.**"
      ],
      "metadata": {
        "id": "a9U3Z7fbRp23"
      }
    },
    {
      "cell_type": "markdown",
      "source": [
        "Для удобства реализуем класс Models, который по сути будет являться списком моделей с двумя методами: add (добавить слой ко всем моделям) и add_create (создать новую модель на основе базовой с дополнительным слоем)."
      ],
      "metadata": {
        "id": "O4N3kU3yRq_T"
      }
    },
    {
      "cell_type": "code",
      "source": [
        "class Models(OrderedDict):\n",
        "    def __init__(self, models):\n",
        "        if not isinstance(models, dict):\n",
        "            models = OrderedDict({'base_model': models})\n",
        "        super().__init__(models)\n",
        "\n",
        "    def add(self, layer):\n",
        "        for name, model in self.items():\n",
        "            model.add(layer)\n",
        "\n",
        "    def add_create(self, name, layer):\n",
        "        base_model = next(iter(self.items()))[1]\n",
        "        new_model = keras.models.clone_model(base_model)\n",
        "        new_model.add(layer)\n",
        "        self.update({name: new_model})\n",
        "\n",
        "    def add_update(self, name, layer):\n",
        "        base_model = self[next(reversed(self))]\n",
        "        new_model = keras.models.clone_model(base_model)\n",
        "        new_model.add(layer)\n",
        "        self.update({name: new_model})"
      ],
      "metadata": {
        "id": "1v3VuBwQRcHs"
      },
      "execution_count": null,
      "outputs": []
    },
    {
      "cell_type": "code",
      "source": [
        "model_BatchNormalization = tf.keras.models.Sequential([\n",
        "    layers.Conv2D(10, kernel_size=(3, 3), input_shape=(32, 32, 3)),\n",
        "    layers.BatchNormalization(),\n",
        "    layers.Activation('relu'),\n",
        "    layers.MaxPooling2D(pool_size=(2, 2)),\n",
        "    layers.Flatten(),\n",
        "    layers.Dense(100),\n",
        "    layers.BatchNormalization(),\n",
        "    layers.Activation('relu'),\n",
        "    layers.Dense(10, activation='softmax')\n",
        "])"
      ],
      "metadata": {
        "id": "wlsBRASnVvTo"
      },
      "execution_count": null,
      "outputs": []
    },
    {
      "cell_type": "code",
      "source": [
        "model_BatchNormalization.compile(loss='categorical_crossentropy', optimizer='adam', metrics=['accuracy'])"
      ],
      "metadata": {
        "id": "vCm693d9V5zB"
      },
      "execution_count": null,
      "outputs": []
    },
    {
      "cell_type": "code",
      "source": [
        "model_BatchNormalization.summary()"
      ],
      "metadata": {
        "colab": {
          "base_uri": "https://localhost:8080/"
        },
        "id": "xBvBZhsiWhZR",
        "outputId": "a53c228d-9c0a-41b4-8c41-36894c78193d"
      },
      "execution_count": null,
      "outputs": [
        {
          "output_type": "stream",
          "name": "stdout",
          "text": [
            "Model: \"sequential_10\"\n",
            "_________________________________________________________________\n",
            " Layer (type)                Output Shape              Param #   \n",
            "=================================================================\n",
            " conv2d_7 (Conv2D)           (None, 30, 30, 10)        280       \n",
            "                                                                 \n",
            " batch_normalization (Batch  (None, 30, 30, 10)        40        \n",
            " Normalization)                                                  \n",
            "                                                                 \n",
            " activation (Activation)     (None, 30, 30, 10)        0         \n",
            "                                                                 \n",
            " max_pooling2d_4 (MaxPoolin  (None, 15, 15, 10)        0         \n",
            " g2D)                                                            \n",
            "                                                                 \n",
            " flatten_7 (Flatten)         (None, 2250)              0         \n",
            "                                                                 \n",
            " dense_20 (Dense)            (None, 100)               225100    \n",
            "                                                                 \n",
            " batch_normalization_1 (Bat  (None, 100)               400       \n",
            " chNormalization)                                                \n",
            "                                                                 \n",
            " activation_1 (Activation)   (None, 100)               0         \n",
            "                                                                 \n",
            " dense_21 (Dense)            (None, 10)                1010      \n",
            "                                                                 \n",
            "=================================================================\n",
            "Total params: 226830 (886.05 KB)\n",
            "Trainable params: 226610 (885.20 KB)\n",
            "Non-trainable params: 220 (880.00 Byte)\n",
            "_________________________________________________________________\n"
          ]
        }
      ]
    },
    {
      "cell_type": "code",
      "source": [
        "model.summary()"
      ],
      "metadata": {
        "colab": {
          "base_uri": "https://localhost:8080/"
        },
        "id": "rbhJErPRWlvI",
        "outputId": "50078cec-a034-429f-986a-6ec8e450be64"
      },
      "execution_count": null,
      "outputs": [
        {
          "output_type": "stream",
          "name": "stdout",
          "text": [
            "Model: \"sequential_8\"\n",
            "_________________________________________________________________\n",
            " Layer (type)                Output Shape              Param #   \n",
            "=================================================================\n",
            " dense_14 (Dense)            (None, 32, 32, 32)        128       \n",
            "                                                                 \n",
            " flatten_5 (Flatten)         (None, 32768)             0         \n",
            "                                                                 \n",
            " dense_15 (Dense)            (None, 32)                1048608   \n",
            "                                                                 \n",
            " dense_16 (Dense)            (None, 32)                1056      \n",
            "                                                                 \n",
            " dense_17 (Dense)            (None, 10)                330       \n",
            "                                                                 \n",
            "=================================================================\n",
            "Total params: 1050122 (4.01 MB)\n",
            "Trainable params: 1050122 (4.01 MB)\n",
            "Non-trainable params: 0 (0.00 Byte)\n",
            "_________________________________________________________________\n"
          ]
        }
      ]
    },
    {
      "cell_type": "code",
      "source": [
        "new_model.summary()"
      ],
      "metadata": {
        "colab": {
          "base_uri": "https://localhost:8080/"
        },
        "id": "ZL5vTKN4WzfN",
        "outputId": "03304d3e-12e6-4a5a-b959-dff7c2d14f8f"
      },
      "execution_count": null,
      "outputs": [
        {
          "output_type": "stream",
          "name": "stdout",
          "text": [
            "Model: \"sequential_9\"\n",
            "_________________________________________________________________\n",
            " Layer (type)                Output Shape              Param #   \n",
            "=================================================================\n",
            " conv2d_6 (Conv2D)           (None, 30, 30, 10)        280       \n",
            "                                                                 \n",
            " max_pooling2d_3 (MaxPoolin  (None, 15, 15, 10)        0         \n",
            " g2D)                                                            \n",
            "                                                                 \n",
            " flatten_6 (Flatten)         (None, 2250)              0         \n",
            "                                                                 \n",
            " dense_18 (Dense)            (None, 100)               225100    \n",
            "                                                                 \n",
            " dense_19 (Dense)            (None, 10)                1010      \n",
            "                                                                 \n",
            "=================================================================\n",
            "Total params: 226390 (884.34 KB)\n",
            "Trainable params: 226390 (884.34 KB)\n",
            "Non-trainable params: 0 (0.00 Byte)\n",
            "_________________________________________________________________\n"
          ]
        }
      ]
    },
    {
      "cell_type": "markdown",
      "source": [
        "Если вывести информацию по всем трём моделям, то можем заметить, что наибольшее количество параметров у исходной простой сети без свёртки - 1 050 122. Наименьшее количество параметров у сети со свёрткой. Промежуточное положение занимает сеть со свёрткой и нормализацией батча, при этом у неё возникает 220 необучаемых параметра.\n",
        "\n",
        "Можем сделать вывод, что свёртка даёт значительное уменьшение количества параметров модели (в 4.64 раза меньше для нашей модели), что позитивно скажется на скорости обучения и затрачиваемых на это ресурсах."
      ],
      "metadata": {
        "id": "ziYjNZZ9YmJU"
      }
    },
    {
      "cell_type": "markdown",
      "source": [
        "**Задание 1.5 (опционально) Посмотрите на batch_size (параметр model.fit) - при большем батче модель будет быстрее проходить эпохи, но с совсем огромным батчом вам потребуется больше эпох для сходимости (т.к. сеть делает меньше шагов за одну эпоху). Найдите такое значение, при котором модель быстрее достигает точности 55%. Hint: используйте early stopping callback.**"
      ],
      "metadata": {
        "id": "8lCc4XZfdSQ4"
      }
    },
    {
      "cell_type": "markdown",
      "source": [
        "Для анализа возьмём свёрточную модель."
      ],
      "metadata": {
        "id": "6fUl-rR1dboO"
      }
    },
    {
      "cell_type": "code",
      "source": [
        "## TODO\n",
        "new_model_test = tf.keras.models.Sequential([\n",
        "    layers.Conv2D(10, kernel_size=(3, 3), activation='relu', input_shape=(32, 32, 3)),\n",
        "    layers.MaxPooling2D(pool_size=(2, 2)),\n",
        "    layers.Flatten(),\n",
        "    layers.Dense(units=100, activation='relu'),\n",
        "    layers.Dense(units=10, activation='softmax')\n",
        "])"
      ],
      "metadata": {
        "id": "ZgIZZeyadVa6"
      },
      "execution_count": null,
      "outputs": []
    },
    {
      "cell_type": "code",
      "source": [
        "new_callbacks_test = [tf.keras.callbacks.ModelCheckpoint(filepath='new_model_test.{epoch:02d}-{val_loss:.2f}.h5'),\n",
        "             tf.keras.callbacks.TensorBoard(log_dir='./logs'),\n",
        "             tf.keras.callbacks.EarlyStopping(patience=3)]"
      ],
      "metadata": {
        "id": "2fOhg5C4dj6W"
      },
      "execution_count": null,
      "outputs": []
    },
    {
      "cell_type": "code",
      "source": [
        "## TODO\n",
        "new_model_test.compile(loss='categorical_crossentropy', optimizer='adam', metrics=['accuracy'])\n",
        "new_model_test.fit(X_train, y_train, batch_size=4, epochs=16, callbacks=new_callbacks, validation_split=0.2)"
      ],
      "metadata": {
        "colab": {
          "base_uri": "https://localhost:8080/"
        },
        "id": "giVwc7qvdo7A",
        "outputId": "23c8fb89-caa5-4bf1-b371-0e3ae39d7612"
      },
      "execution_count": null,
      "outputs": [
        {
          "output_type": "stream",
          "name": "stdout",
          "text": [
            "Epoch 1/16\n",
            "8000/8000 [==============================] - 33s 4ms/step - loss: 0.2154 - accuracy: 0.9289 - val_loss: 4.2095 - val_accuracy: 0.5247\n",
            "Epoch 2/16\n",
            "  50/8000 [..............................] - ETA: 25s - loss: 0.1200 - accuracy: 0.9550"
          ]
        },
        {
          "output_type": "stream",
          "name": "stderr",
          "text": [
            "/usr/local/lib/python3.10/dist-packages/keras/src/engine/training.py:3103: UserWarning: You are saving your model as an HDF5 file via `model.save()`. This file format is considered legacy. We recommend using instead the native Keras format, e.g. `model.save('my_model.keras')`.\n",
            "  saving_api.save_model(\n"
          ]
        },
        {
          "output_type": "stream",
          "name": "stdout",
          "text": [
            "8000/8000 [==============================] - 32s 4ms/step - loss: 0.2260 - accuracy: 0.9271 - val_loss: 4.3868 - val_accuracy: 0.5305\n",
            "Epoch 3/16\n",
            "8000/8000 [==============================] - 31s 4ms/step - loss: 0.2180 - accuracy: 0.9301 - val_loss: 4.4152 - val_accuracy: 0.5236\n",
            "Epoch 4/16\n",
            "8000/8000 [==============================] - 32s 4ms/step - loss: 0.2186 - accuracy: 0.9317 - val_loss: 4.4859 - val_accuracy: 0.5221\n"
          ]
        },
        {
          "output_type": "execute_result",
          "data": {
            "text/plain": [
              "<keras.src.callbacks.History at 0x7ad4351ae980>"
            ]
          },
          "metadata": {},
          "execution_count": 106
        }
      ]
    },
    {
      "cell_type": "code",
      "source": [
        "predict_x_test = new_model_test.predict(X_test)\n",
        "classes_x_test = np.argmax(predict_x_test,axis=1)\n",
        "\n",
        "test_acc = accuracy_score(y_test, classes_x_test)\n",
        "print(\"\\n Test_acc =\", test_acc)\n",
        "assert test_acc > 0.55, \"Not good enough. Back to the drawing board :)\"\n",
        "print(\" Not bad!\")"
      ],
      "metadata": {
        "colab": {
          "base_uri": "https://localhost:8080/",
          "height": 245
        },
        "id": "iyN2asMRdzXg",
        "outputId": "c6606126-a8ab-4005-e665-4e2bb48f3be0"
      },
      "execution_count": null,
      "outputs": [
        {
          "output_type": "stream",
          "name": "stdout",
          "text": [
            "313/313 [==============================] - 1s 2ms/step\n",
            "\n",
            " Test_acc = 0.5233\n"
          ]
        },
        {
          "output_type": "error",
          "ename": "AssertionError",
          "evalue": "Not good enough. Back to the drawing board :)",
          "traceback": [
            "\u001b[0;31m---------------------------------------------------------------------------\u001b[0m",
            "\u001b[0;31mAssertionError\u001b[0m                            Traceback (most recent call last)",
            "\u001b[0;32m<ipython-input-107-39f0c4e1f242>\u001b[0m in \u001b[0;36m<cell line: 6>\u001b[0;34m()\u001b[0m\n\u001b[1;32m      4\u001b[0m \u001b[0mtest_acc\u001b[0m \u001b[0;34m=\u001b[0m \u001b[0maccuracy_score\u001b[0m\u001b[0;34m(\u001b[0m\u001b[0my_test\u001b[0m\u001b[0;34m,\u001b[0m \u001b[0mclasses_x_test\u001b[0m\u001b[0;34m)\u001b[0m\u001b[0;34m\u001b[0m\u001b[0;34m\u001b[0m\u001b[0m\n\u001b[1;32m      5\u001b[0m \u001b[0mprint\u001b[0m\u001b[0;34m(\u001b[0m\u001b[0;34m\"\\n Test_acc =\"\u001b[0m\u001b[0;34m,\u001b[0m \u001b[0mtest_acc\u001b[0m\u001b[0;34m)\u001b[0m\u001b[0;34m\u001b[0m\u001b[0;34m\u001b[0m\u001b[0m\n\u001b[0;32m----> 6\u001b[0;31m \u001b[0;32massert\u001b[0m \u001b[0mtest_acc\u001b[0m \u001b[0;34m>\u001b[0m \u001b[0;36m0.55\u001b[0m\u001b[0;34m,\u001b[0m \u001b[0;34m\"Not good enough. Back to the drawing board :)\"\u001b[0m\u001b[0;34m\u001b[0m\u001b[0;34m\u001b[0m\u001b[0m\n\u001b[0m\u001b[1;32m      7\u001b[0m \u001b[0mprint\u001b[0m\u001b[0;34m(\u001b[0m\u001b[0;34m\" Not bad!\"\u001b[0m\u001b[0;34m)\u001b[0m\u001b[0;34m\u001b[0m\u001b[0;34m\u001b[0m\u001b[0m\n",
            "\u001b[0;31mAssertionError\u001b[0m: Not good enough. Back to the drawing board :)"
          ]
        }
      ]
    },
    {
      "cell_type": "markdown",
      "source": [
        "Брал различные значения batch_size и получил следующие результаты:\n",
        "\n",
        "batch_size = 4; Test_acc = 0.5233\n",
        "\n",
        "batch_size = 8; Test_acc = 0.5346\n",
        "\n",
        "batch_size = 16; Test_acc = 0.5672\n",
        "\n",
        "batch_size = 32; Test_acc = 0.5582\n",
        "\n",
        "batch_size = 64; Test_acc = 0.5616\n",
        "\n",
        "batch_size = 128; Test_acc = 0.5643\n",
        "\n",
        "Можем заметить, что при размере батча 8 и 4 получаем заметное ухудшение метрики качества, которая находится ниже порога."
      ],
      "metadata": {
        "id": "9QpV5zL-gF80"
      }
    },
    {
      "cell_type": "markdown",
      "source": [
        "**Задание 1.7 (обязательно попытаться) Наигравшись выше, обучим большую свёрточную сеть, которая даст на тестовой выборке accuracy больше 80%. В этом задании вам потребуется провести эксперименты, сравнив их между собой в конце. Возможно, может быть несколько проще, если писать выводы во время или сразу после каждого эксперимента, после чего сделать общие выводы.**"
      ],
      "metadata": {
        "id": "yYnWOAZMipV9"
      }
    },
    {
      "cell_type": "code",
      "source": [
        "datagen = ImageDataGenerator(\n",
        "    rotation_range=15,\n",
        "    width_shift_range=0.1,\n",
        "    height_shift_range=0.1,\n",
        "    horizontal_flip=True\n",
        ")\n",
        "datagen.fit(X_train)"
      ],
      "metadata": {
        "id": "17kOPppdiiIy"
      },
      "execution_count": null,
      "outputs": []
    },
    {
      "cell_type": "code",
      "source": [
        "val_datagen = ImageDataGenerator()\n",
        "\n",
        "split = 45000\n",
        "dg_x_train, dg_x_val = X_train[:split], X_train[split:]\n",
        "dg_y_train, dg_y_val = y_train[:split], y_train[split:]"
      ],
      "metadata": {
        "id": "z3ltExm9GOhL"
      },
      "execution_count": null,
      "outputs": []
    },
    {
      "cell_type": "code",
      "source": [
        "final_model = tf.keras.models.Sequential([\n",
        "    layers.Conv2D(25, kernel_size=(3, 3), activation='relu', input_shape=(32, 32, 3)),\n",
        "    layers.MaxPooling2D(pool_size=(2, 2)),\n",
        "    Dropout(0.4),\n",
        "    layers.Flatten(),\n",
        "    layers.Dense(units=100, activation='relu'),\n",
        "    layers.Dense(units=10, activation='softmax')\n",
        "])"
      ],
      "metadata": {
        "id": "NjIehAnaGXPg"
      },
      "execution_count": null,
      "outputs": []
    },
    {
      "cell_type": "code",
      "source": [
        "final_callbacks = [tf.keras.callbacks.EarlyStopping(patience=5)]"
      ],
      "metadata": {
        "id": "WrRsGT-ZGiq3"
      },
      "execution_count": null,
      "outputs": []
    },
    {
      "cell_type": "code",
      "source": [
        "tf.keras.utils.plot_model(final_model, '123.png', show_shapes=True)"
      ],
      "metadata": {
        "id": "m8GrfJGJGtCu",
        "colab": {
          "base_uri": "https://localhost:8080/",
          "height": 774
        },
        "outputId": "5694b7e4-2f60-4b2b-c49b-fa07a09394df"
      },
      "execution_count": null,
      "outputs": [
        {
          "output_type": "execute_result",
          "data": {
            "image/png": "[encoded data removed]",
            "text/plain": [
              "<IPython.core.display.Image object>"
            ]
          },
          "metadata": {},
          "execution_count": 15
        }
      ]
    },
    {
      "cell_type": "code",
      "source": [
        "## TODO\n",
        "optimizer = Adam(learning_rate=0.15)\n",
        "\n",
        "final_model.compile(loss='categorical_crossentropy',\n",
        "                    optimizer=optimizer,\n",
        "                    metrics=['accuracy'])\n",
        "final_model.fit(datagen.flow(dg_x_train, dg_y_train, batch_size=64),\n",
        "                epochs=16,\n",
        "                callbacks=final_callbacks,\n",
        "                validation_data=val_datagen.flow(dg_x_val, dg_y_val))"
      ],
      "metadata": {
        "colab": {
          "base_uri": "https://localhost:8080/"
        },
        "id": "TovAZ6kdGyT-",
        "outputId": "6b65aaae-07ee-48ff-cf64-3bc2e17397f2"
      },
      "execution_count": null,
      "outputs": [
        {
          "output_type": "stream",
          "name": "stdout",
          "text": [
            "Epoch 1/16\n",
            "624/625 [============================>.] - ETA: 0s - loss: 25495220224.0000 - accuracy: 0.0433"
          ]
        },
        {
          "output_type": "stream",
          "name": "stderr",
          "text": [
            "WARNING:tensorflow:Early stopping conditioned on metric `val_loss` which is not available. Available metrics are: loss,accuracy\n"
          ]
        },
        {
          "output_type": "stream",
          "name": "stdout",
          "text": [
            "\b\b\b\b\b\b\b\b\b\b\b\b\b\b\b\b\b\b\b\b\b\b\b\b\b\b\b\b\b\b\b\b\b\b\b\b\b\b\b\b\b\b\b\b\b\b\b\b\b\b\b\b\b\b\b\b\b\b\b\b\b\b\b\b\b\b\b\b\b\b\b\b\b\b\b\b\b\b\b\b\b\b\b\b\b\b\b\b\b\b\b\b\b\b\r625/625 [==============================] - 51s 79ms/step - loss: 25550526464.0000 - accuracy: 0.0432\n",
            "Epoch 2/16\n",
            "624/625 [============================>.] - ETA: 0s - loss: 175325347840.0000 - accuracy: 0.0602"
          ]
        },
        {
          "output_type": "stream",
          "name": "stderr",
          "text": [
            "WARNING:tensorflow:Early stopping conditioned on metric `val_loss` which is not available. Available metrics are: loss,accuracy\n"
          ]
        },
        {
          "output_type": "stream",
          "name": "stdout",
          "text": [
            "\b\b\b\b\b\b\b\b\b\b\b\b\b\b\b\b\b\b\b\b\b\b\b\b\b\b\b\b\b\b\b\b\b\b\b\b\b\b\b\b\b\b\b\b\b\b\b\b\b\b\b\b\b\b\b\b\b\b\b\b\b\b\b\b\b\b\b\b\b\b\b\b\b\b\b\b\b\b\b\b\b\b\b\b\b\b\b\b\b\b\b\b\b\b\b\r625/625 [==============================] - 51s 80ms/step - loss: 175467495424.0000 - accuracy: 0.0601\n",
            "Epoch 3/16\n",
            "625/625 [==============================] - ETA: 0s - loss: 402130567168.0000 - accuracy: 0.0696"
          ]
        },
        {
          "output_type": "stream",
          "name": "stderr",
          "text": [
            "WARNING:tensorflow:Early stopping conditioned on metric `val_loss` which is not available. Available metrics are: loss,accuracy\n"
          ]
        },
        {
          "output_type": "stream",
          "name": "stdout",
          "text": [
            "\b\b\b\b\b\b\b\b\b\b\b\b\b\b\b\b\b\b\b\b\b\b\b\b\b\b\b\b\b\b\b\b\b\b\b\b\b\b\b\b\b\b\b\b\b\b\b\b\b\b\b\b\b\b\b\b\b\b\b\b\b\b\b\b\b\b\b\b\b\b\b\b\b\b\b\b\b\b\b\b\b\b\b\b\b\b\b\b\b\b\b\b\b\b\b\r625/625 [==============================] - 53s 85ms/step - loss: 402130567168.0000 - accuracy: 0.0696\n",
            "Epoch 4/16\n",
            "625/625 [==============================] - ETA: 0s - loss: 680269643776.0000 - accuracy: 0.0764"
          ]
        },
        {
          "output_type": "stream",
          "name": "stderr",
          "text": [
            "WARNING:tensorflow:Early stopping conditioned on metric `val_loss` which is not available. Available metrics are: loss,accuracy\n"
          ]
        },
        {
          "output_type": "stream",
          "name": "stdout",
          "text": [
            "\b\b\b\b\b\b\b\b\b\b\b\b\b\b\b\b\b\b\b\b\b\b\b\b\b\b\b\b\b\b\b\b\b\b\b\b\b\b\b\b\b\b\b\b\b\b\b\b\b\b\b\b\b\b\b\b\b\b\b\b\b\b\b\b\b\b\b\b\b\b\b\b\b\b\b\b\b\b\b\b\b\b\b\b\b\b\b\b\b\b\b\b\b\b\b\r625/625 [==============================] - 45s 72ms/step - loss: 680269643776.0000 - accuracy: 0.0764\n",
            "Epoch 5/16\n",
            "624/625 [============================>.] - ETA: 0s - loss: 934450364416.0000 - accuracy: 0.0793"
          ]
        },
        {
          "output_type": "stream",
          "name": "stderr",
          "text": [
            "WARNING:tensorflow:Early stopping conditioned on metric `val_loss` which is not available. Available metrics are: loss,accuracy\n"
          ]
        },
        {
          "output_type": "stream",
          "name": "stdout",
          "text": [
            "\b\b\b\b\b\b\b\b\b\b\b\b\b\b\b\b\b\b\b\b\b\b\b\b\b\b\b\b\b\b\b\b\b\b\b\b\b\b\b\b\b\b\b\b\b\b\b\b\b\b\b\b\b\b\b\b\b\b\b\b\b\b\b\b\b\b\b\b\b\b\b\b\b\b\b\b\b\b\b\b\b\b\b\b\b\b\b\b\b\b\b\b\b\b\b\r625/625 [==============================] - 44s 70ms/step - loss: 933629263872.0000 - accuracy: 0.0797\n",
            "Epoch 6/16\n",
            "625/625 [==============================] - ETA: 0s - loss: 1194339729408.0000 - accuracy: 0.0851"
          ]
        },
        {
          "output_type": "stream",
          "name": "stderr",
          "text": [
            "WARNING:tensorflow:Early stopping conditioned on metric `val_loss` which is not available. Available metrics are: loss,accuracy\n"
          ]
        },
        {
          "output_type": "stream",
          "name": "stdout",
          "text": [
            "\b\b\b\b\b\b\b\b\b\b\b\b\b\b\b\b\b\b\b\b\b\b\b\b\b\b\b\b\b\b\b\b\b\b\b\b\b\b\b\b\b\b\b\b\b\b\b\b\b\b\b\b\b\b\b\b\b\b\b\b\b\b\b\b\b\b\b\b\b\b\b\b\b\b\b\b\b\b\b\b\b\b\b\b\b\b\b\b\b\b\b\b\b\b\b\b\r625/625 [==============================] - 46s 73ms/step - loss: 1194339729408.0000 - accuracy: 0.0851\n",
            "Epoch 7/16\n",
            "625/625 [==============================] - ETA: 0s - loss: 1356960628736.0000 - accuracy: 0.0856"
          ]
        },
        {
          "output_type": "stream",
          "name": "stderr",
          "text": [
            "WARNING:tensorflow:Early stopping conditioned on metric `val_loss` which is not available. Available metrics are: loss,accuracy\n"
          ]
        },
        {
          "output_type": "stream",
          "name": "stdout",
          "text": [
            "\b\b\b\b\b\b\b\b\b\b\b\b\b\b\b\b\b\b\b\b\b\b\b\b\b\b\b\b\b\b\b\b\b\b\b\b\b\b\b\b\b\b\b\b\b\b\b\b\b\b\b\b\b\b\b\b\b\b\b\b\b\b\b\b\b\b\b\b\b\b\b\b\b\b\b\b\b\b\b\b\b\b\b\b\b\b\b\b\b\b\b\b\b\b\b\b\r625/625 [==============================] - 45s 71ms/step - loss: 1356960628736.0000 - accuracy: 0.0856\n",
            "Epoch 8/16\n",
            "625/625 [==============================] - ETA: 0s - loss: 1758775476224.0000 - accuracy: 0.0888"
          ]
        },
        {
          "output_type": "stream",
          "name": "stderr",
          "text": [
            "WARNING:tensorflow:Early stopping conditioned on metric `val_loss` which is not available. Available metrics are: loss,accuracy\n"
          ]
        },
        {
          "output_type": "stream",
          "name": "stdout",
          "text": [
            "\b\b\b\b\b\b\b\b\b\b\b\b\b\b\b\b\b\b\b\b\b\b\b\b\b\b\b\b\b\b\b\b\b\b\b\b\b\b\b\b\b\b\b\b\b\b\b\b\b\b\b\b\b\b\b\b\b\b\b\b\b\b\b\b\b\b\b\b\b\b\b\b\b\b\b\b\b\b\b\b\b\b\b\b\b\b\b\b\b\b\b\b\b\b\b\b\r625/625 [==============================] - 44s 71ms/step - loss: 1758775476224.0000 - accuracy: 0.0888\n",
            "Epoch 9/16\n",
            "624/625 [============================>.] - ETA: 0s - loss: 2016079118336.0000 - accuracy: 0.0873"
          ]
        },
        {
          "output_type": "stream",
          "name": "stderr",
          "text": [
            "WARNING:tensorflow:Early stopping conditioned on metric `val_loss` which is not available. Available metrics are: loss,accuracy\n"
          ]
        },
        {
          "output_type": "stream",
          "name": "stdout",
          "text": [
            "\b\b\b\b\b\b\b\b\b\b\b\b\b\b\b\b\b\b\b\b\b\b\b\b\b\b\b\b\b\b\b\b\b\b\b\b\b\b\b\b\b\b\b\b\b\b\b\b\b\b\b\b\b\b\b\b\b\b\b\b\b\b\b\b\b\b\b\b\b\b\b\b\b\b\b\b\b\b\b\b\b\b\b\b\b\b\b\b\b\b\b\b\b\b\b\b\r625/625 [==============================] - 52s 83ms/step - loss: 2017978089472.0000 - accuracy: 0.0872\n",
            "Epoch 10/16\n",
            "625/625 [==============================] - ETA: 0s - loss: 2337345372160.0000 - accuracy: 0.0898"
          ]
        },
        {
          "output_type": "stream",
          "name": "stderr",
          "text": [
            "WARNING:tensorflow:Early stopping conditioned on metric `val_loss` which is not available. Available metrics are: loss,accuracy\n"
          ]
        },
        {
          "output_type": "stream",
          "name": "stdout",
          "text": [
            "\b\b\b\b\b\b\b\b\b\b\b\b\b\b\b\b\b\b\b\b\b\b\b\b\b\b\b\b\b\b\b\b\b\b\b\b\b\b\b\b\b\b\b\b\b\b\b\b\b\b\b\b\b\b\b\b\b\b\b\b\b\b\b\b\b\b\b\b\b\b\b\b\b\b\b\b\b\b\b\b\b\b\b\b\b\b\b\b\b\b\b\b\b\b\b\b\r625/625 [==============================] - 44s 71ms/step - loss: 2337345372160.0000 - accuracy: 0.0898\n",
            "Epoch 11/16\n",
            "624/625 [============================>.] - ETA: 0s - loss: 2536587657216.0000 - accuracy: 0.0896"
          ]
        },
        {
          "output_type": "stream",
          "name": "stderr",
          "text": [
            "WARNING:tensorflow:Early stopping conditioned on metric `val_loss` which is not available. Available metrics are: loss,accuracy\n"
          ]
        },
        {
          "output_type": "stream",
          "name": "stdout",
          "text": [
            "\b\b\b\b\b\b\b\b\b\b\b\b\b\b\b\b\b\b\b\b\b\b\b\b\b\b\b\b\b\b\b\b\b\b\b\b\b\b\b\b\b\b\b\b\b\b\b\b\b\b\b\b\b\b\b\b\b\b\b\b\b\b\b\b\b\b\b\b\b\b\b\b\b\b\b\b\b\b\b\b\b\b\b\b\b\b\b\b\b\b\b\b\b\b\b\b\r625/625 [==============================] - 44s 71ms/step - loss: 2536180547584.0000 - accuracy: 0.0894\n",
            "Epoch 12/16\n",
            "624/625 [============================>.] - ETA: 0s - loss: 2972072017920.0000 - accuracy: 0.0924"
          ]
        },
        {
          "output_type": "stream",
          "name": "stderr",
          "text": [
            "WARNING:tensorflow:Early stopping conditioned on metric `val_loss` which is not available. Available metrics are: loss,accuracy\n"
          ]
        },
        {
          "output_type": "stream",
          "name": "stdout",
          "text": [
            "\b\b\b\b\b\b\b\b\b\b\b\b\b\b\b\b\b\b\b\b\b\b\b\b\b\b\b\b\b\b\b\b\b\b\b\b\b\b\b\b\b\b\b\b\b\b\b\b\b\b\b\b\b\b\b\b\b\b\b\b\b\b\b\b\b\b\b\b\b\b\b\b\b\b\b\b\b\b\b\b\b\b\b\b\b\b\b\b\b\b\b\b\b\b\b\b\r625/625 [==============================] - 44s 71ms/step - loss: 2970706247680.0000 - accuracy: 0.0939\n",
            "Epoch 13/16\n",
            "625/625 [==============================] - ETA: 0s - loss: 3364808818688.0000 - accuracy: 0.0931"
          ]
        },
        {
          "output_type": "stream",
          "name": "stderr",
          "text": [
            "WARNING:tensorflow:Early stopping conditioned on metric `val_loss` which is not available. Available metrics are: loss,accuracy\n"
          ]
        },
        {
          "output_type": "stream",
          "name": "stdout",
          "text": [
            "\b\b\b\b\b\b\b\b\b\b\b\b\b\b\b\b\b\b\b\b\b\b\b\b\b\b\b\b\b\b\b\b\b\b\b\b\b\b\b\b\b\b\b\b\b\b\b\b\b\b\b\b\b\b\b\b\b\b\b\b\b\b\b\b\b\b\b\b\b\b\b\b\b\b\b\b\b\b\b\b\b\b\b\b\b\b\b\b\b\b\b\b\b\b\b\b\r625/625 [==============================] - 44s 71ms/step - loss: 3364808818688.0000 - accuracy: 0.0931\n",
            "Epoch 14/16\n",
            "624/625 [============================>.] - ETA: 0s - loss: 3583212519424.0000 - accuracy: 0.0942"
          ]
        },
        {
          "output_type": "stream",
          "name": "stderr",
          "text": [
            "WARNING:tensorflow:Early stopping conditioned on metric `val_loss` which is not available. Available metrics are: loss,accuracy\n"
          ]
        },
        {
          "output_type": "stream",
          "name": "stdout",
          "text": [
            "\b\b\b\b\b\b\b\b\b\b\b\b\b\b\b\b\b\b\b\b\b\b\b\b\b\b\b\b\b\b\b\b\b\b\b\b\b\b\b\b\b\b\b\b\b\b\b\b\b\b\b\b\b\b\b\b\b\b\b\b\b\b\b\b\b\b\b\b\b\b\b\b\b\b\b\b\b\b\b\b\b\b\b\b\b\b\b\b\b\b\b\b\b\b\b\b\r625/625 [==============================] - 44s 70ms/step - loss: 3582906859520.0000 - accuracy: 0.0940\n",
            "Epoch 15/16\n",
            "624/625 [============================>.] - ETA: 0s - loss: 3932003762176.0000 - accuracy: 0.0969"
          ]
        },
        {
          "output_type": "stream",
          "name": "stderr",
          "text": [
            "WARNING:tensorflow:Early stopping conditioned on metric `val_loss` which is not available. Available metrics are: loss,accuracy\n"
          ]
        },
        {
          "output_type": "stream",
          "name": "stdout",
          "text": [
            "\b\b\b\b\b\b\b\b\b\b\b\b\b\b\b\b\b\b\b\b\b\b\b\b\b\b\b\b\b\b\b\b\b\b\b\b\b\b\b\b\b\b\b\b\b\b\b\b\b\b\b\b\b\b\b\b\b\b\b\b\b\b\b\b\b\b\b\b\b\b\b\b\b\b\b\b\b\b\b\b\b\b\b\b\b\b\b\b\b\b\b\b\b\b\b\b\r625/625 [==============================] - 44s 71ms/step - loss: 3931989606400.0000 - accuracy: 0.0967\n",
            "Epoch 16/16\n",
            "624/625 [============================>.] - ETA: 0s - loss: 3917311639552.0000 - accuracy: 0.0996"
          ]
        },
        {
          "output_type": "stream",
          "name": "stderr",
          "text": [
            "WARNING:tensorflow:Early stopping conditioned on metric `val_loss` which is not available. Available metrics are: loss,accuracy\n"
          ]
        },
        {
          "output_type": "stream",
          "name": "stdout",
          "text": [
            "\b\b\b\b\b\b\b\b\b\b\b\b\b\b\b\b\b\b\b\b\b\b\b\b\b\b\b\b\b\b\b\b\b\b\b\b\b\b\b\b\b\b\b\b\b\b\b\b\b\b\b\b\b\b\b\b\b\b\b\b\b\b\b\b\b\b\b\b\b\b\b\b\b\b\b\b\b\b\b\b\b\b\b\b\b\b\b\b\b\b\b\b\b\b\b\b\r625/625 [==============================] - 44s 71ms/step - loss: 3914820222976.0000 - accuracy: 0.0995\n"
          ]
        },
        {
          "output_type": "execute_result",
          "data": {
            "text/plain": [
              "<keras.src.callbacks.History at 0x78e9955807c0>"
            ]
          },
          "metadata": {},
          "execution_count": 19
        }
      ]
    },
    {
      "cell_type": "code",
      "source": [
        "predict_x=final_model.predict(X_test)\n",
        "classes_x=np.argmax(predict_x,axis=1)\n",
        "\n",
        "test_acc = accuracy_score(y_test, classes_x)\n",
        "print(\"\\n Test_acc =\", test_acc)\n",
        "if test_acc > 0.8:\n",
        "    print(\"Это победа!\")"
      ],
      "metadata": {
        "id": "Rgc6LeubIDug"
      },
      "execution_count": null,
      "outputs": []
    },
    {
      "cell_type": "markdown",
      "source": [
        "Брал различные значения batch_size и epochs - получил следующие результаты:\n",
        "\n",
        "learning_rate=0.01 для Adam:\n",
        "\n",
        "batch_size = 8; epochs = 16; Test_acc = 0.0928\n",
        "\n",
        "batch_size = 16; epochs = 16; Test_acc = 0.0935. Здесь при обучении была деградация по качеству от эпохи к эпохе.\n",
        "\n",
        "batch_size = 32; epochs = 16; Test_acc = 0.1024. Здесь при обучении значение качества модели оставалось практически на одном уровне от эпохи к эпохе.\n",
        "\n",
        "Примем learning_rate=0.001 для Adam:\n",
        "\n",
        "При данном значении получал метрику равную 0.000. Пробовал различные функции активации - все давали аналогичный результат, кроме sigmoid (здесь значение метрики было 1.0).\n",
        "\n",
        "Примем learning_rate=0.1 для Adam:\n",
        "\n",
        "batch_size = 32; epochs = 16; Test_acc = 0.095.\n",
        "\n",
        "Перепробовал большое количество различных гиперпараметров, различные функции активации, различное значение параметра dropout, различное количество слоёв и различные значения скорости обучения. В большинстве случаев модель деградирует по качеству и точность стремится к нулю. В других случаях модель переобучается и точность равняется единице."
      ],
      "metadata": {
        "id": "UOPqXdWHIE7b"
      }
    }
  ]
}